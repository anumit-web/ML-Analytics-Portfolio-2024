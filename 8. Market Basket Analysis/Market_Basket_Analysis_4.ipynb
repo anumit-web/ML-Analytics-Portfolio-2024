{
  "cells": [
    {
      "cell_type": "markdown",
      "metadata": {
        "id": "view-in-github",
        "colab_type": "text"
      },
      "source": [
        "<a href=\"https://colab.research.google.com/github/anumit-web/ML-Analytics-Portfolio-2024/blob/main/8.%20Market%20Basket%20Analysis/Market_Basket_Analysis_3.ipynb\" target=\"_parent\"><img src=\"https://colab.research.google.com/assets/colab-badge.svg\" alt=\"Open In Colab\"/></a>"
      ]
    },
    {
      "cell_type": "markdown",
      "source": [
        "# Artificial Intelligence\n",
        "# Machine Learning\n",
        "# Portfolio Project\n",
        "# #8\n",
        "# Market Basket Analysis\n",
        "# Goal = Conduct market basket analysis to identify product associations and customer buying patterns.\n",
        "\n",
        "# unsupervised learning\n",
        "\n",
        "# find what item a customer is most likely to buy based on information about customer purchase history data\n",
        "\n",
        "# Apriori algorithm\n",
        "## a machine learning algorithm used to find frequent itemsets and association rules in data\n",
        "\n",
        "# Identify frequent items\n",
        "## identifying the most frequent individual items in the data\n",
        "\n",
        "# Association rules\n",
        "## a rule might say that if items A and B are in a transaction, then item C is likely to be included as well\n",
        "\n",
        "## The Apriori algorithm uses the insight that adding items to a frequently purchased group can only make it less frequent.\n",
        "\n",
        "## The algorithm requires two important parameters: minimum support and minimum confidence\n",
        "\n",
        "# support\n",
        "## Support basically refers to the number of times the chosen item/s appears in the database\n",
        "\n",
        "# Confidence\n",
        "## Confidence refers to the frequency of A and B being together, given the number of times A has occurred.\n",
        "\n",
        "# Lift\n",
        "## the likelihood of the itemset B being purchased when item A is purchased while taking into account the support of B\n",
        "\n",
        "# Market Basket Analysis\n",
        "## customers who buy a certain item (or group of items) are more likely to buy another specific item (or group of items)\n",
        "\n",
        "## The relations hence can be used to increase profitability through cross-selling, recommendations, promotions, or even the placement of items on a menu or in a store.\n",
        "\n",
        "\n",
        "# https://en.wikipedia.org/wiki/Apriori_algorithm\n",
        "\n",
        "- - - - - - - - - - - - - - - - - - - - - - - - - - - - - - - - - - - - - - - - - - - - - - - - - - - - - - - - - - - - - - - - - - - -\n"
      ],
      "metadata": {
        "id": "LAElxz7e6xiT"
      }
    },
    {
      "cell_type": "markdown",
      "source": [
        "# Branding statement"
      ],
      "metadata": {
        "id": "-AqinKkKYcIN"
      }
    },
    {
      "cell_type": "code",
      "source": [
        "# https://i.ibb.co/zZswY34/Pink-hands-network-2.png"
      ],
      "metadata": {
        "id": "et0ThJcPYiXb"
      },
      "execution_count": null,
      "outputs": []
    },
    {
      "cell_type": "code",
      "source": [
        "from IPython.display import Image\n",
        "Image('https://i.ibb.co/zZswY34/Pink-hands-network-2.png')"
      ],
      "metadata": {
        "id": "eejritJ1YnWh"
      },
      "execution_count": null,
      "outputs": []
    },
    {
      "cell_type": "markdown",
      "source": [
        "- - - - - - - - - - - - - - - - - - - - - - - - - - - - - - - - - - - - - - - - - - - - - - - -"
      ],
      "metadata": {
        "id": "GRLJj5WkZYii"
      }
    },
    {
      "cell_type": "markdown",
      "source": [
        "# EDA, Exploratory Data Analysis"
      ],
      "metadata": {
        "id": "P2GTILYG7D1r"
      }
    },
    {
      "cell_type": "markdown",
      "source": [
        "## import libraries"
      ],
      "metadata": {
        "id": "vSS7v0tO2Nc1"
      }
    },
    {
      "cell_type": "code",
      "source": [
        "print('Hello, Market Basket Analysis')"
      ],
      "metadata": {
        "id": "bijVEivnAsug"
      },
      "execution_count": null,
      "outputs": []
    },
    {
      "cell_type": "code",
      "source": [
        "import numpy as np\n",
        "import pandas as pd\n",
        "\n",
        "import seaborn as sns\n",
        "import matplotlib.pyplot as plt"
      ],
      "metadata": {
        "id": "vsLbE4-Z-pdJ"
      },
      "execution_count": null,
      "outputs": []
    },
    {
      "cell_type": "code",
      "source": [
        "from mlxtend.frequent_patterns import apriori\n",
        "from mlxtend.frequent_patterns import association_rules\n",
        "from mlxtend.preprocessing import TransactionEncoder\n",
        "from mpl_toolkits.mplot3d import Axes3D\n",
        "import networkx as nx"
      ],
      "metadata": {
        "id": "mLdiAStE-wN9"
      },
      "execution_count": null,
      "outputs": []
    },
    {
      "cell_type": "markdown",
      "source": [
        "## Input data"
      ],
      "metadata": {
        "id": "zlPRSWa00y-0"
      }
    },
    {
      "cell_type": "code",
      "source": [
        "#\n",
        "\n",
        "input_data_df = pd.read_csv(\"https://zenodo.org/records/13898853/files/Groceries_dataset.csv\",\n",
        "                            sep = ',')"
      ],
      "metadata": {
        "id": "aThzc3vIrpwI"
      },
      "execution_count": null,
      "outputs": []
    },
    {
      "cell_type": "code",
      "source": [
        "number_of_rows = input_data_df.shape[0]\n",
        "number_of_columns = input_data_df.shape[1]\n",
        "print(\"Numner of rows = \", number_of_rows)\n",
        "print(\"Number of columns = \", number_of_columns)"
      ],
      "metadata": {
        "id": "J5htDQ-5hTmd"
      },
      "execution_count": null,
      "outputs": []
    },
    {
      "cell_type": "code",
      "source": [
        "\n",
        "input_data_df.head()"
      ],
      "metadata": {
        "id": "o7enKsiz_UEH"
      },
      "execution_count": null,
      "outputs": []
    },
    {
      "cell_type": "code",
      "source": [
        "input_data_df.tail()"
      ],
      "metadata": {
        "id": "SGHOpPwkXjte"
      },
      "execution_count": null,
      "outputs": []
    },
    {
      "cell_type": "code",
      "source": [
        "input_data_df.info()"
      ],
      "metadata": {
        "id": "S_h0_YgEXsVu"
      },
      "execution_count": null,
      "outputs": []
    },
    {
      "cell_type": "code",
      "source": [
        "input_data_df.describe()\n"
      ],
      "metadata": {
        "id": "N5WFB738XyUR"
      },
      "execution_count": null,
      "outputs": []
    },
    {
      "cell_type": "markdown",
      "source": [
        "print column names"
      ],
      "metadata": {
        "id": "GUlKmkJKaoSV"
      }
    },
    {
      "cell_type": "code",
      "source": [
        "print(input_data_df.columns)"
      ],
      "metadata": {
        "id": "L5hw6CkxZTo_"
      },
      "execution_count": null,
      "outputs": []
    },
    {
      "cell_type": "code",
      "source": [
        "# Get all Column Header Labels as List\n",
        "for column_headers in  input_data_df.columns:\n",
        "    print(column_headers)"
      ],
      "metadata": {
        "id": "SNohuK30aZ-9"
      },
      "execution_count": null,
      "outputs": []
    },
    {
      "cell_type": "markdown",
      "source": [
        "## find list of all columns which have null values\n",
        "using SKIMPY"
      ],
      "metadata": {
        "id": "-6YgPJxE3ALE"
      }
    },
    {
      "cell_type": "code",
      "source": [
        "# Get the count of null values in each column\n",
        "null_counts = input_data_df.isnull().sum()\n",
        "print('Priniting count of null values = ')\n",
        "print(null_counts)"
      ],
      "metadata": {
        "id": "4TQRUjgl9NSV"
      },
      "execution_count": null,
      "outputs": []
    },
    {
      "cell_type": "code",
      "source": [
        "try:\n",
        "  import skimpy\n",
        "except:\n",
        "  !pip install skimpy\n",
        "  import skimpy"
      ],
      "metadata": {
        "id": "4YTP4QMQ-n0z"
      },
      "execution_count": null,
      "outputs": []
    },
    {
      "cell_type": "code",
      "source": [
        "# ! pip install skimpy"
      ],
      "metadata": {
        "id": "JXCuQMzKcRv9"
      },
      "execution_count": null,
      "outputs": []
    },
    {
      "cell_type": "code",
      "source": [
        "from skimpy import skim"
      ],
      "metadata": {
        "id": "ihugGf-bcd-O"
      },
      "execution_count": null,
      "outputs": []
    },
    {
      "cell_type": "code",
      "source": [
        "skim(input_data_df)"
      ],
      "metadata": {
        "id": "Ol4qOryGckPw"
      },
      "execution_count": null,
      "outputs": []
    },
    {
      "cell_type": "markdown",
      "source": [
        "## find unique values by column names"
      ],
      "metadata": {
        "id": "Eh836kWO3jwp"
      }
    },
    {
      "cell_type": "code",
      "source": [
        "# Find the number of unique values in both 'Name' and 'Age' columns\n",
        "unique_values = input_data_df.nunique()\n",
        "print(unique_values)"
      ],
      "metadata": {
        "id": "-uIq1pUW-fG-"
      },
      "execution_count": null,
      "outputs": []
    },
    {
      "cell_type": "code",
      "source": [
        "try:\n",
        "  import summarytools\n",
        "except:\n",
        "  !pip install summarytools\n",
        "  import summarytools"
      ],
      "metadata": {
        "id": "WBNzRoXv_Q6v"
      },
      "execution_count": null,
      "outputs": []
    },
    {
      "cell_type": "code",
      "source": [
        "# ! pip install summarytools"
      ],
      "metadata": {
        "id": "r29v3j-ndm_N"
      },
      "execution_count": null,
      "outputs": []
    },
    {
      "cell_type": "code",
      "source": [
        "from summarytools import dfSummary"
      ],
      "metadata": {
        "id": "QH1rhk3zdxt6"
      },
      "execution_count": null,
      "outputs": []
    },
    {
      "cell_type": "code",
      "source": [
        "dfSummary(input_data_df)"
      ],
      "metadata": {
        "id": "O4BP8AQvd1hD"
      },
      "execution_count": null,
      "outputs": []
    },
    {
      "cell_type": "markdown",
      "source": [
        "# Data Processing"
      ],
      "metadata": {
        "id": "na0uFDyjW7gl"
      }
    },
    {
      "cell_type": "markdown",
      "source": [
        "## convert date column to date data type\n",
        "\n"
      ],
      "metadata": {
        "id": "BrF3DEDa5VVg"
      }
    },
    {
      "cell_type": "code",
      "source": [
        "# print\n",
        "input_data_df.head()"
      ],
      "metadata": {
        "id": "kw6A08RozjR5"
      },
      "execution_count": null,
      "outputs": []
    },
    {
      "cell_type": "code",
      "source": [
        "input_data_df[\"Date\"]=pd.to_datetime(input_data_df[\"Date\"])\n",
        "\n",
        "# input_data_df[\"Date\"] = pd.to_datetime(input_data_df[\"Date\"], format='%d.%m.%Y %H:%M')"
      ],
      "metadata": {
        "id": "ttXGaXayzE9V"
      },
      "execution_count": null,
      "outputs": []
    },
    {
      "cell_type": "code",
      "source": [
        "input_data_df.head()"
      ],
      "metadata": {
        "id": "UWJOx1JU0c13"
      },
      "execution_count": null,
      "outputs": []
    },
    {
      "cell_type": "code",
      "source": [
        "input_data_df.dtypes"
      ],
      "metadata": {
        "id": "PUqYmMo_1SCq"
      },
      "execution_count": null,
      "outputs": []
    },
    {
      "cell_type": "code",
      "source": [
        "input_data_df['itemDescription'] = input_data_df['itemDescription'].apply(str)\n",
        "\n",
        "# Change the 'Age' column type to float\n",
        "# input_data_df['Price'] = pd.to_numeric(input_data_df['Price'], downcast='float')"
      ],
      "metadata": {
        "id": "o6KrbgqhIhFF"
      },
      "execution_count": null,
      "outputs": []
    },
    {
      "cell_type": "code",
      "source": [
        "input_data_df.dtypes"
      ],
      "metadata": {
        "id": "Q6XMboFjzUgG"
      },
      "execution_count": null,
      "outputs": []
    },
    {
      "cell_type": "code",
      "source": [
        "input_data_df.dtypes"
      ],
      "metadata": {
        "id": "K9dscKuDM-Et"
      },
      "execution_count": null,
      "outputs": []
    },
    {
      "cell_type": "code",
      "source": [
        "import missingno as msno\n",
        "\n",
        "# Visualize missing values as a matrix\n",
        "msno.matrix(input_data_df)"
      ],
      "metadata": {
        "id": "SoeCN9CqmkcV"
      },
      "execution_count": null,
      "outputs": []
    },
    {
      "cell_type": "code",
      "source": [
        "# exit(0)"
      ],
      "metadata": {
        "id": "t2rWtQ54kMnU"
      },
      "execution_count": null,
      "outputs": []
    },
    {
      "cell_type": "markdown",
      "source": [
        "change index to date tyoe and date column"
      ],
      "metadata": {
        "id": "vUrAkzph5g5J"
      }
    },
    {
      "cell_type": "code",
      "source": [
        "input_data_df.head()"
      ],
      "metadata": {
        "id": "h4SeF6Qn4fQU"
      },
      "execution_count": null,
      "outputs": []
    },
    {
      "cell_type": "markdown",
      "source": [
        "do NOT drop date column because we need it for model training for linear and random forest algorithms"
      ],
      "metadata": {
        "id": "VJotgyyaxcHX"
      }
    },
    {
      "cell_type": "markdown",
      "source": [
        "# Data Visualization 📊📈📉"
      ],
      "metadata": {
        "id": "ZxkH60cC3ecY"
      }
    },
    {
      "cell_type": "markdown",
      "source": [
        "## Total Sales Analysis\n",
        "\n",
        "We group the data by month and year, calculating the total sum of sales to understand the sales trend over time. The resulting visualization depicts the total sales per month"
      ],
      "metadata": {
        "id": "va9UiZOpZKqI"
      }
    },
    {
      "cell_type": "markdown",
      "source": [
        "## Top 20 products sold\n"
      ],
      "metadata": {
        "id": "CpSWjr6e8nVK"
      }
    },
    {
      "cell_type": "code",
      "source": [
        "product_counts = input_data_df[\"itemDescription\"].value_counts()"
      ],
      "metadata": {
        "id": "7nCQc3-_4ugF"
      },
      "execution_count": null,
      "outputs": []
    },
    {
      "cell_type": "code",
      "source": [
        "product_counts.head(20)"
      ],
      "metadata": {
        "id": "QfYldmY64vIT"
      },
      "execution_count": null,
      "outputs": []
    },
    {
      "cell_type": "code",
      "source": [
        "product_counts.head(20).plot(kind='bar', figsize=(10, 6), color=\"purple\")\n",
        "plt.title('Top 20 ProductName Distribution')\n",
        "plt.xlabel('ProductName')\n",
        "plt.ylabel('Frequency')\n",
        "plt.xticks(rotation=45, ha='right')\n",
        "plt.show()"
      ],
      "metadata": {
        "id": "AqLgiMEp83Oq"
      },
      "execution_count": null,
      "outputs": []
    },
    {
      "cell_type": "code",
      "source": [],
      "metadata": {
        "id": "24v639xe838c"
      },
      "execution_count": null,
      "outputs": []
    },
    {
      "cell_type": "code",
      "source": [],
      "metadata": {
        "id": "kRcAb_TK84aJ"
      },
      "execution_count": null,
      "outputs": []
    },
    {
      "cell_type": "code",
      "source": [],
      "metadata": {
        "id": "w2eL_PZv8459"
      },
      "execution_count": null,
      "outputs": []
    },
    {
      "cell_type": "code",
      "source": [],
      "metadata": {
        "id": "NXEZV0LP85fo"
      },
      "execution_count": null,
      "outputs": []
    },
    {
      "cell_type": "code",
      "source": [
        "# exit(0)"
      ],
      "metadata": {
        "id": "0re0DY_b4vxf"
      },
      "execution_count": null,
      "outputs": []
    },
    {
      "cell_type": "markdown",
      "source": [
        "# Data Calculations"
      ],
      "metadata": {
        "id": "jd0vqbaVZiEi"
      }
    },
    {
      "cell_type": "markdown",
      "source": [
        "## convert dataframe another dataframe where each row is a transaction"
      ],
      "metadata": {
        "id": "ntUl44oF4A-z"
      }
    },
    {
      "cell_type": "code",
      "source": [
        "processed_data_df = input_data_df.copy()"
      ],
      "metadata": {
        "id": "tUODxjA-4ZgY"
      },
      "execution_count": null,
      "outputs": []
    },
    {
      "cell_type": "code",
      "source": [
        "processed_data_df['itemDescription'] = processed_data_df['itemDescription'].transform(lambda x: [x])"
      ],
      "metadata": {
        "id": "3Zw1jeha4pXp"
      },
      "execution_count": null,
      "outputs": []
    },
    {
      "cell_type": "code",
      "source": [
        "processed_data_df.head()"
      ],
      "metadata": {
        "id": "6O8KwcJ0-0Mk"
      },
      "execution_count": null,
      "outputs": []
    },
    {
      "cell_type": "code",
      "source": [
        "processed_data_df = processed_data_df.groupby(['Member_number','Date']).sum()['itemDescription'].reset_index(drop=True)"
      ],
      "metadata": {
        "id": "odMJAalm-0wS"
      },
      "execution_count": null,
      "outputs": []
    },
    {
      "cell_type": "code",
      "source": [
        "processed_data_df.head()"
      ],
      "metadata": {
        "id": "vXm0Ob4--1hf"
      },
      "execution_count": null,
      "outputs": []
    },
    {
      "cell_type": "code",
      "source": [
        "processed_data_df.tail()"
      ],
      "metadata": {
        "id": "8pTtCkmfo2eF"
      },
      "execution_count": null,
      "outputs": []
    },
    {
      "cell_type": "code",
      "source": [
        "encoder = TransactionEncoder()\n",
        "transactions = pd.DataFrame(encoder.fit(processed_data_df).transform(processed_data_df), columns=encoder.columns_)\n",
        "\n",
        "transactions.head()"
      ],
      "metadata": {
        "id": "g0GmXnUUpnlg"
      },
      "execution_count": null,
      "outputs": []
    },
    {
      "cell_type": "code",
      "source": [
        "frequent_itemsets_df = apriori(transactions, min_support= 6/len(processed_data_df), use_colnames=True, max_len = 2)\n",
        "\n",
        "\n",
        "frequent_itemsets_df.head()"
      ],
      "metadata": {
        "id": "k7Qi_AkQwdRU"
      },
      "execution_count": null,
      "outputs": []
    },
    {
      "cell_type": "code",
      "source": [
        "rules_df = association_rules(frequent_itemsets_df, metric=\"lift\",  min_threshold = 1.5)"
      ],
      "metadata": {
        "id": "MVAAaK1txuMi"
      },
      "execution_count": 95,
      "outputs": []
    },
    {
      "cell_type": "code",
      "source": [
        "rules_df.head()"
      ],
      "metadata": {
        "colab": {
          "base_uri": "https://localhost:8080/",
          "height": 292
        },
        "id": "R_ttN2egySB6",
        "outputId": "8b9b9913-1725-4421-cdd6-912c177ff8b4"
      },
      "execution_count": 96,
      "outputs": [
        {
          "data": {
            "application/vnd.google.colaboratory.intrinsic+json": {
              "summary": "{\n  \"name\": \"rules_df\",\n  \"rows\": 190,\n  \"fields\": [\n    {\n      \"column\": \"antecedents\",\n      \"properties\": {\n        \"dtype\": \"category\",\n        \"num_unique_values\": 91,\n        \"samples\": [\n          \"frozenset({'coffee'})\",\n          \"frozenset({'pet care'})\",\n          \"frozenset({'condensed milk'})\"\n        ],\n        \"semantic_type\": \"\",\n        \"description\": \"\"\n      }\n    },\n    {\n      \"column\": \"consequents\",\n      \"properties\": {\n        \"dtype\": \"category\",\n        \"num_unique_values\": 91,\n        \"samples\": [\n          \"frozenset({'chewing gum'})\",\n          \"frozenset({'pet care'})\",\n          \"frozenset({'condensed milk'})\"\n        ],\n        \"semantic_type\": \"\",\n        \"description\": \"\"\n      }\n    },\n    {\n      \"column\": \"antecedent support\",\n      \"properties\": {\n        \"dtype\": \"number\",\n        \"std\": 0.03263501117237502,\n        \"min\": 0.001403461872619127,\n        \"max\": 0.15792287642852368,\n        \"num_unique_values\": 84,\n        \"samples\": [\n          0.013967787208447505,\n          0.017576689166610975,\n          0.0677671589921807\n        ],\n        \"semantic_type\": \"\",\n        \"description\": \"\"\n      }\n    },\n    {\n      \"column\": \"consequent support\",\n      \"properties\": {\n        \"dtype\": \"number\",\n        \"std\": 0.032635011172375016,\n        \"min\": 0.001403461872619127,\n        \"max\": 0.15792287642852368,\n        \"num_unique_values\": 84,\n        \"samples\": [\n          0.01577223818752924,\n          0.021386085678005748,\n          0.0677671589921807\n        ],\n        \"semantic_type\": \"\",\n        \"description\": \"\"\n      }\n    },\n    {\n      \"column\": \"support\",\n      \"properties\": {\n        \"dtype\": \"number\",\n        \"std\": 0.00023389076990739763,\n        \"min\": 0.00040098910646260775,\n        \"max\": 0.0017376194613379669,\n        \"num_unique_values\": 12,\n        \"samples\": [\n          0.0010693042839002875,\n          0.001403461872619127,\n          0.0006014836596939117\n        ],\n        \"semantic_type\": \"\",\n        \"description\": \"\"\n      }\n    },\n    {\n      \"column\": \"confidence\",\n      \"properties\": {\n        \"dtype\": \"number\",\n        \"std\": 0.05944872283973914,\n        \"min\": 0.0025391451544646637,\n        \"max\": 0.34210526315789475,\n        \"num_unique_values\": 163,\n        \"samples\": [\n          0.04929577464788732,\n          0.027522935779816515,\n          0.028708133971291863\n        ],\n        \"semantic_type\": \"\",\n        \"description\": \"\"\n      }\n    },\n    {\n      \"column\": \"lift\",\n      \"properties\": {\n        \"dtype\": \"number\",\n        \"std\": 0.4350303153590398,\n        \"min\": 1.506392831974227,\n        \"max\": 3.5276227897838903,\n        \"num_unique_values\": 134,\n        \"samples\": [\n          1.5761587078651684,\n          1.6214195412678345,\n          1.7187561535936988\n        ],\n        \"semantic_type\": \"\",\n        \"description\": \"\"\n      }\n    },\n    {\n      \"column\": \"leverage\",\n      \"properties\": {\n        \"dtype\": \"number\",\n        \"std\": 9.045326360737853e-05,\n        \"min\": 0.00013479751423557554,\n        \"max\": 0.0005933413181282571,\n        \"num_unique_values\": 94,\n        \"samples\": [\n          0.0005548137052125488,\n          0.00015515560137559383,\n          0.00021416189562894686\n        ],\n        \"semantic_type\": \"\",\n        \"description\": \"\"\n      }\n    },\n    {\n      \"column\": \"conviction\",\n      \"properties\": {\n        \"dtype\": \"number\",\n        \"std\": 0.03889551781918028,\n        \"min\": 1.001027265103384,\n        \"max\": 1.279957227828644,\n        \"num_unique_values\": 187,\n        \"samples\": [\n          1.0063727150434014,\n          1.049233153490321,\n          1.0032280775337787\n        ],\n        \"semantic_type\": \"\",\n        \"description\": \"\"\n      }\n    },\n    {\n      \"column\": \"zhangs_metric\",\n      \"properties\": {\n        \"dtype\": \"number\",\n        \"std\": 0.09777055989860753,\n        \"min\": 0.33736541124960917,\n        \"max\": 0.7417554540842212,\n        \"num_unique_values\": 188,\n        \"samples\": [\n          0.4616952597953805,\n          0.42740881298756056,\n          0.4101257220523276\n        ],\n        \"semantic_type\": \"\",\n        \"description\": \"\"\n      }\n    }\n  ]\n}",
              "type": "dataframe",
              "variable_name": "rules_df"
            },
            "text/html": [
              "\n",
              "  <div id=\"df-255de200-7521-41ff-b3a6-1542c6256967\" class=\"colab-df-container\">\n",
              "    <div>\n",
              "<style scoped>\n",
              "    .dataframe tbody tr th:only-of-type {\n",
              "        vertical-align: middle;\n",
              "    }\n",
              "\n",
              "    .dataframe tbody tr th {\n",
              "        vertical-align: top;\n",
              "    }\n",
              "\n",
              "    .dataframe thead th {\n",
              "        text-align: right;\n",
              "    }\n",
              "</style>\n",
              "<table border=\"1\" class=\"dataframe\">\n",
              "  <thead>\n",
              "    <tr style=\"text-align: right;\">\n",
              "      <th></th>\n",
              "      <th>antecedents</th>\n",
              "      <th>consequents</th>\n",
              "      <th>antecedent support</th>\n",
              "      <th>consequent support</th>\n",
              "      <th>support</th>\n",
              "      <th>confidence</th>\n",
              "      <th>lift</th>\n",
              "      <th>leverage</th>\n",
              "      <th>conviction</th>\n",
              "      <th>zhangs_metric</th>\n",
              "    </tr>\n",
              "  </thead>\n",
              "  <tbody>\n",
              "    <tr>\n",
              "      <th>0</th>\n",
              "      <td>(butter milk)</td>\n",
              "      <td>(UHT-milk)</td>\n",
              "      <td>0.017577</td>\n",
              "      <td>0.021386</td>\n",
              "      <td>0.000601</td>\n",
              "      <td>0.034221</td>\n",
              "      <td>1.600131</td>\n",
              "      <td>0.000226</td>\n",
              "      <td>1.013289</td>\n",
              "      <td>0.381761</td>\n",
              "    </tr>\n",
              "    <tr>\n",
              "      <th>1</th>\n",
              "      <td>(UHT-milk)</td>\n",
              "      <td>(butter milk)</td>\n",
              "      <td>0.021386</td>\n",
              "      <td>0.017577</td>\n",
              "      <td>0.000601</td>\n",
              "      <td>0.028125</td>\n",
              "      <td>1.600131</td>\n",
              "      <td>0.000226</td>\n",
              "      <td>1.010854</td>\n",
              "      <td>0.383247</td>\n",
              "    </tr>\n",
              "    <tr>\n",
              "      <th>2</th>\n",
              "      <td>(cream cheese )</td>\n",
              "      <td>(UHT-milk)</td>\n",
              "      <td>0.023658</td>\n",
              "      <td>0.021386</td>\n",
              "      <td>0.000869</td>\n",
              "      <td>0.036723</td>\n",
              "      <td>1.717152</td>\n",
              "      <td>0.000363</td>\n",
              "      <td>1.015922</td>\n",
              "      <td>0.427761</td>\n",
              "    </tr>\n",
              "    <tr>\n",
              "      <th>3</th>\n",
              "      <td>(UHT-milk)</td>\n",
              "      <td>(cream cheese )</td>\n",
              "      <td>0.021386</td>\n",
              "      <td>0.023658</td>\n",
              "      <td>0.000869</td>\n",
              "      <td>0.040625</td>\n",
              "      <td>1.717152</td>\n",
              "      <td>0.000363</td>\n",
              "      <td>1.017685</td>\n",
              "      <td>0.426767</td>\n",
              "    </tr>\n",
              "    <tr>\n",
              "      <th>4</th>\n",
              "      <td>(soda)</td>\n",
              "      <td>(artif. sweetener)</td>\n",
              "      <td>0.097106</td>\n",
              "      <td>0.001938</td>\n",
              "      <td>0.000468</td>\n",
              "      <td>0.004818</td>\n",
              "      <td>2.485725</td>\n",
              "      <td>0.000280</td>\n",
              "      <td>1.002893</td>\n",
              "      <td>0.661986</td>\n",
              "    </tr>\n",
              "  </tbody>\n",
              "</table>\n",
              "</div>\n",
              "    <div class=\"colab-df-buttons\">\n",
              "\n",
              "  <div class=\"colab-df-container\">\n",
              "    <button class=\"colab-df-convert\" onclick=\"convertToInteractive('df-255de200-7521-41ff-b3a6-1542c6256967')\"\n",
              "            title=\"Convert this dataframe to an interactive table.\"\n",
              "            style=\"display:none;\">\n",
              "\n",
              "  <svg xmlns=\"http://www.w3.org/2000/svg\" height=\"24px\" viewBox=\"0 -960 960 960\">\n",
              "    <path d=\"M120-120v-720h720v720H120Zm60-500h600v-160H180v160Zm220 220h160v-160H400v160Zm0 220h160v-160H400v160ZM180-400h160v-160H180v160Zm440 0h160v-160H620v160ZM180-180h160v-160H180v160Zm440 0h160v-160H620v160Z\"/>\n",
              "  </svg>\n",
              "    </button>\n",
              "\n",
              "  <style>\n",
              "    .colab-df-container {\n",
              "      display:flex;\n",
              "      gap: 12px;\n",
              "    }\n",
              "\n",
              "    .colab-df-convert {\n",
              "      background-color: #E8F0FE;\n",
              "      border: none;\n",
              "      border-radius: 50%;\n",
              "      cursor: pointer;\n",
              "      display: none;\n",
              "      fill: #1967D2;\n",
              "      height: 32px;\n",
              "      padding: 0 0 0 0;\n",
              "      width: 32px;\n",
              "    }\n",
              "\n",
              "    .colab-df-convert:hover {\n",
              "      background-color: #E2EBFA;\n",
              "      box-shadow: 0px 1px 2px rgba(60, 64, 67, 0.3), 0px 1px 3px 1px rgba(60, 64, 67, 0.15);\n",
              "      fill: #174EA6;\n",
              "    }\n",
              "\n",
              "    .colab-df-buttons div {\n",
              "      margin-bottom: 4px;\n",
              "    }\n",
              "\n",
              "    [theme=dark] .colab-df-convert {\n",
              "      background-color: #3B4455;\n",
              "      fill: #D2E3FC;\n",
              "    }\n",
              "\n",
              "    [theme=dark] .colab-df-convert:hover {\n",
              "      background-color: #434B5C;\n",
              "      box-shadow: 0px 1px 3px 1px rgba(0, 0, 0, 0.15);\n",
              "      filter: drop-shadow(0px 1px 2px rgba(0, 0, 0, 0.3));\n",
              "      fill: #FFFFFF;\n",
              "    }\n",
              "  </style>\n",
              "\n",
              "    <script>\n",
              "      const buttonEl =\n",
              "        document.querySelector('#df-255de200-7521-41ff-b3a6-1542c6256967 button.colab-df-convert');\n",
              "      buttonEl.style.display =\n",
              "        google.colab.kernel.accessAllowed ? 'block' : 'none';\n",
              "\n",
              "      async function convertToInteractive(key) {\n",
              "        const element = document.querySelector('#df-255de200-7521-41ff-b3a6-1542c6256967');\n",
              "        const dataTable =\n",
              "          await google.colab.kernel.invokeFunction('convertToInteractive',\n",
              "                                                    [key], {});\n",
              "        if (!dataTable) return;\n",
              "\n",
              "        const docLinkHtml = 'Like what you see? Visit the ' +\n",
              "          '<a target=\"_blank\" href=https://colab.research.google.com/notebooks/data_table.ipynb>data table notebook</a>'\n",
              "          + ' to learn more about interactive tables.';\n",
              "        element.innerHTML = '';\n",
              "        dataTable['output_type'] = 'display_data';\n",
              "        await google.colab.output.renderOutput(dataTable, element);\n",
              "        const docLink = document.createElement('div');\n",
              "        docLink.innerHTML = docLinkHtml;\n",
              "        element.appendChild(docLink);\n",
              "      }\n",
              "    </script>\n",
              "  </div>\n",
              "\n",
              "\n",
              "<div id=\"df-ba4a2eec-fc02-4321-9f63-e0216918784b\">\n",
              "  <button class=\"colab-df-quickchart\" onclick=\"quickchart('df-ba4a2eec-fc02-4321-9f63-e0216918784b')\"\n",
              "            title=\"Suggest charts\"\n",
              "            style=\"display:none;\">\n",
              "\n",
              "<svg xmlns=\"http://www.w3.org/2000/svg\" height=\"24px\"viewBox=\"0 0 24 24\"\n",
              "     width=\"24px\">\n",
              "    <g>\n",
              "        <path d=\"M19 3H5c-1.1 0-2 .9-2 2v14c0 1.1.9 2 2 2h14c1.1 0 2-.9 2-2V5c0-1.1-.9-2-2-2zM9 17H7v-7h2v7zm4 0h-2V7h2v10zm4 0h-2v-4h2v4z\"/>\n",
              "    </g>\n",
              "</svg>\n",
              "  </button>\n",
              "\n",
              "<style>\n",
              "  .colab-df-quickchart {\n",
              "      --bg-color: #E8F0FE;\n",
              "      --fill-color: #1967D2;\n",
              "      --hover-bg-color: #E2EBFA;\n",
              "      --hover-fill-color: #174EA6;\n",
              "      --disabled-fill-color: #AAA;\n",
              "      --disabled-bg-color: #DDD;\n",
              "  }\n",
              "\n",
              "  [theme=dark] .colab-df-quickchart {\n",
              "      --bg-color: #3B4455;\n",
              "      --fill-color: #D2E3FC;\n",
              "      --hover-bg-color: #434B5C;\n",
              "      --hover-fill-color: #FFFFFF;\n",
              "      --disabled-bg-color: #3B4455;\n",
              "      --disabled-fill-color: #666;\n",
              "  }\n",
              "\n",
              "  .colab-df-quickchart {\n",
              "    background-color: var(--bg-color);\n",
              "    border: none;\n",
              "    border-radius: 50%;\n",
              "    cursor: pointer;\n",
              "    display: none;\n",
              "    fill: var(--fill-color);\n",
              "    height: 32px;\n",
              "    padding: 0;\n",
              "    width: 32px;\n",
              "  }\n",
              "\n",
              "  .colab-df-quickchart:hover {\n",
              "    background-color: var(--hover-bg-color);\n",
              "    box-shadow: 0 1px 2px rgba(60, 64, 67, 0.3), 0 1px 3px 1px rgba(60, 64, 67, 0.15);\n",
              "    fill: var(--button-hover-fill-color);\n",
              "  }\n",
              "\n",
              "  .colab-df-quickchart-complete:disabled,\n",
              "  .colab-df-quickchart-complete:disabled:hover {\n",
              "    background-color: var(--disabled-bg-color);\n",
              "    fill: var(--disabled-fill-color);\n",
              "    box-shadow: none;\n",
              "  }\n",
              "\n",
              "  .colab-df-spinner {\n",
              "    border: 2px solid var(--fill-color);\n",
              "    border-color: transparent;\n",
              "    border-bottom-color: var(--fill-color);\n",
              "    animation:\n",
              "      spin 1s steps(1) infinite;\n",
              "  }\n",
              "\n",
              "  @keyframes spin {\n",
              "    0% {\n",
              "      border-color: transparent;\n",
              "      border-bottom-color: var(--fill-color);\n",
              "      border-left-color: var(--fill-color);\n",
              "    }\n",
              "    20% {\n",
              "      border-color: transparent;\n",
              "      border-left-color: var(--fill-color);\n",
              "      border-top-color: var(--fill-color);\n",
              "    }\n",
              "    30% {\n",
              "      border-color: transparent;\n",
              "      border-left-color: var(--fill-color);\n",
              "      border-top-color: var(--fill-color);\n",
              "      border-right-color: var(--fill-color);\n",
              "    }\n",
              "    40% {\n",
              "      border-color: transparent;\n",
              "      border-right-color: var(--fill-color);\n",
              "      border-top-color: var(--fill-color);\n",
              "    }\n",
              "    60% {\n",
              "      border-color: transparent;\n",
              "      border-right-color: var(--fill-color);\n",
              "    }\n",
              "    80% {\n",
              "      border-color: transparent;\n",
              "      border-right-color: var(--fill-color);\n",
              "      border-bottom-color: var(--fill-color);\n",
              "    }\n",
              "    90% {\n",
              "      border-color: transparent;\n",
              "      border-bottom-color: var(--fill-color);\n",
              "    }\n",
              "  }\n",
              "</style>\n",
              "\n",
              "  <script>\n",
              "    async function quickchart(key) {\n",
              "      const quickchartButtonEl =\n",
              "        document.querySelector('#' + key + ' button');\n",
              "      quickchartButtonEl.disabled = true;  // To prevent multiple clicks.\n",
              "      quickchartButtonEl.classList.add('colab-df-spinner');\n",
              "      try {\n",
              "        const charts = await google.colab.kernel.invokeFunction(\n",
              "            'suggestCharts', [key], {});\n",
              "      } catch (error) {\n",
              "        console.error('Error during call to suggestCharts:', error);\n",
              "      }\n",
              "      quickchartButtonEl.classList.remove('colab-df-spinner');\n",
              "      quickchartButtonEl.classList.add('colab-df-quickchart-complete');\n",
              "    }\n",
              "    (() => {\n",
              "      let quickchartButtonEl =\n",
              "        document.querySelector('#df-ba4a2eec-fc02-4321-9f63-e0216918784b button');\n",
              "      quickchartButtonEl.style.display =\n",
              "        google.colab.kernel.accessAllowed ? 'block' : 'none';\n",
              "    })();\n",
              "  </script>\n",
              "</div>\n",
              "\n",
              "    </div>\n",
              "  </div>\n"
            ],
            "text/plain": [
              "       antecedents         consequents  antecedent support  \\\n",
              "0    (butter milk)          (UHT-milk)            0.017577   \n",
              "1       (UHT-milk)       (butter milk)            0.021386   \n",
              "2  (cream cheese )          (UHT-milk)            0.023658   \n",
              "3       (UHT-milk)     (cream cheese )            0.021386   \n",
              "4           (soda)  (artif. sweetener)            0.097106   \n",
              "\n",
              "   consequent support   support  confidence      lift  leverage  conviction  \\\n",
              "0            0.021386  0.000601    0.034221  1.600131  0.000226    1.013289   \n",
              "1            0.017577  0.000601    0.028125  1.600131  0.000226    1.010854   \n",
              "2            0.021386  0.000869    0.036723  1.717152  0.000363    1.015922   \n",
              "3            0.023658  0.000869    0.040625  1.717152  0.000363    1.017685   \n",
              "4            0.001938  0.000468    0.004818  2.485725  0.000280    1.002893   \n",
              "\n",
              "   zhangs_metric  \n",
              "0       0.381761  \n",
              "1       0.383247  \n",
              "2       0.427761  \n",
              "3       0.426767  \n",
              "4       0.661986  "
            ]
          },
          "execution_count": 96,
          "metadata": {},
          "output_type": "execute_result"
        }
      ]
    },
    {
      "cell_type": "code",
      "source": [
        "processed_data_df.tail()"
      ],
      "metadata": {
        "colab": {
          "base_uri": "https://localhost:8080/",
          "height": 238
        },
        "id": "1rxYJy99u92T",
        "outputId": "d5c342cd-8877-47bf-a0ea-27f20be97cff"
      },
      "execution_count": 97,
      "outputs": [
        {
          "data": {
            "text/html": [
              "<div>\n",
              "<style scoped>\n",
              "    .dataframe tbody tr th:only-of-type {\n",
              "        vertical-align: middle;\n",
              "    }\n",
              "\n",
              "    .dataframe tbody tr th {\n",
              "        vertical-align: top;\n",
              "    }\n",
              "\n",
              "    .dataframe thead th {\n",
              "        text-align: right;\n",
              "    }\n",
              "</style>\n",
              "<table border=\"1\" class=\"dataframe\">\n",
              "  <thead>\n",
              "    <tr style=\"text-align: right;\">\n",
              "      <th></th>\n",
              "      <th>itemDescription</th>\n",
              "    </tr>\n",
              "  </thead>\n",
              "  <tbody>\n",
              "    <tr>\n",
              "      <th>14958</th>\n",
              "      <td>[butter milk, whipped/sour cream]</td>\n",
              "    </tr>\n",
              "    <tr>\n",
              "      <th>14959</th>\n",
              "      <td>[bottled water, herbs]</td>\n",
              "    </tr>\n",
              "    <tr>\n",
              "      <th>14960</th>\n",
              "      <td>[fruit/vegetable juice, onions]</td>\n",
              "    </tr>\n",
              "    <tr>\n",
              "      <th>14961</th>\n",
              "      <td>[bottled beer, other vegetables]</td>\n",
              "    </tr>\n",
              "    <tr>\n",
              "      <th>14962</th>\n",
              "      <td>[soda, root vegetables, semi-finished bread]</td>\n",
              "    </tr>\n",
              "  </tbody>\n",
              "</table>\n",
              "</div><br><label><b>dtype:</b> object</label>"
            ],
            "text/plain": [
              "14958               [butter milk, whipped/sour cream]\n",
              "14959                          [bottled water, herbs]\n",
              "14960                 [fruit/vegetable juice, onions]\n",
              "14961                [bottled beer, other vegetables]\n",
              "14962    [soda, root vegetables, semi-finished bread]\n",
              "Name: itemDescription, dtype: object"
            ]
          },
          "execution_count": 97,
          "metadata": {},
          "output_type": "execute_result"
        }
      ]
    },
    {
      "cell_type": "markdown",
      "source": [
        "## Business Application"
      ],
      "metadata": {
        "id": "gJ9lpBk62QKD"
      }
    },
    {
      "cell_type": "markdown",
      "source": [
        "### whole milk\n",
        "\n",
        "find items wnich drive sales of whole milk"
      ],
      "metadata": {
        "id": "o9WtKLlG2mo1"
      }
    },
    {
      "cell_type": "code",
      "source": [
        "milk_rules_df = rules_df[rules_df['consequents'].astype(str).str.contains('whole milk')]\n",
        "milk_rules_df = milk_rules_df.sort_values(by=['lift'],ascending = [False]).reset_index(drop = True)\n",
        "\n",
        "milk_rules_df.head()"
      ],
      "metadata": {
        "colab": {
          "base_uri": "https://localhost:8080/",
          "height": 258
        },
        "id": "sF7mw6_y2tS8",
        "outputId": "ffabaaed-be79-4a7c-b526-a084e5349746"
      },
      "execution_count": 98,
      "outputs": [
        {
          "data": {
            "application/vnd.google.colaboratory.intrinsic+json": {
              "summary": "{\n  \"name\": \"milk_rules_df\",\n  \"rows\": 7,\n  \"fields\": [\n    {\n      \"column\": \"antecedents\",\n      \"properties\": {\n        \"dtype\": \"string\",\n        \"num_unique_values\": 7,\n        \"samples\": [\n          \"frozenset({'brandy'})\",\n          \"frozenset({'softener'})\",\n          \"frozenset({'house keeping products'})\"\n        ],\n        \"semantic_type\": \"\",\n        \"description\": \"\"\n      }\n    },\n    {\n      \"column\": \"consequents\",\n      \"properties\": {\n        \"dtype\": \"category\",\n        \"num_unique_values\": 1,\n        \"samples\": [\n          \"frozenset({'whole milk'})\"\n        ],\n        \"semantic_type\": \"\",\n        \"description\": \"\"\n      }\n    },\n    {\n      \"column\": \"antecedent support\",\n      \"properties\": {\n        \"dtype\": \"number\",\n        \"std\": 0.0006375320466597244,\n        \"min\": 0.001403461872619127,\n        \"max\": 0.003007418298469558,\n        \"num_unique_values\": 5,\n        \"samples\": [\n          0.0027400922274944863\n        ],\n        \"semantic_type\": \"\",\n        \"description\": \"\"\n      }\n    },\n    {\n      \"column\": \"consequent support\",\n      \"properties\": {\n        \"dtype\": \"number\",\n        \"std\": 0.0,\n        \"min\": 0.15792287642852368,\n        \"max\": 0.15792287642852368,\n        \"num_unique_values\": 1,\n        \"samples\": [\n          0.15792287642852368\n        ],\n        \"semantic_type\": \"\",\n        \"description\": \"\"\n      }\n    },\n    {\n      \"column\": \"support\",\n      \"properties\": {\n        \"dtype\": \"number\",\n        \"std\": 0.00019674666101556832,\n        \"min\": 0.00040098910646260775,\n        \"max\": 0.0008688097306689834,\n        \"num_unique_values\": 6,\n        \"samples\": [\n          0.0008688097306689834\n        ],\n        \"semantic_type\": \"\",\n        \"description\": \"\"\n      }\n    },\n    {\n      \"column\": \"confidence\",\n      \"properties\": {\n        \"dtype\": \"number\",\n        \"std\": 0.03378160887852234,\n        \"min\": 0.2413793103448276,\n        \"max\": 0.34210526315789475,\n        \"num_unique_values\": 6,\n        \"samples\": [\n          0.34210526315789475\n        ],\n        \"semantic_type\": \"\",\n        \"description\": \"\"\n      }\n    },\n    {\n      \"column\": \"lift\",\n      \"properties\": {\n        \"dtype\": \"number\",\n        \"std\": 0.21391206671575533,\n        \"min\": 1.5284632334700192,\n        \"max\": 2.1662805978127717,\n        \"num_unique_values\": 6,\n        \"samples\": [\n          2.1662805978127717\n        ],\n        \"semantic_type\": \"\",\n        \"description\": \"\"\n      }\n    },\n    {\n      \"column\": \"leverage\",\n      \"properties\": {\n        \"dtype\": \"number\",\n        \"std\": 0.00011448977708459099,\n        \"min\": 0.00016174808417916285,\n        \"max\": 0.0004677491609781528,\n        \"num_unique_values\": 6,\n        \"samples\": [\n          0.0004677491609781528\n        ],\n        \"semantic_type\": \"\",\n        \"description\": \"\"\n      }\n    },\n    {\n      \"column\": \"conviction\",\n      \"properties\": {\n        \"dtype\": \"number\",\n        \"std\": 0.0567222629141218,\n        \"min\": 1.1100107537987642,\n        \"max\": 1.279957227828644,\n        \"num_unique_values\": 6,\n        \"samples\": [\n          1.279957227828644\n        ],\n        \"semantic_type\": \"\",\n        \"description\": \"\"\n      }\n    },\n    {\n      \"column\": \"zhangs_metric\",\n      \"properties\": {\n        \"dtype\": \"number\",\n        \"std\": 0.06615555869727872,\n        \"min\": 0.34641948382406407,\n        \"max\": 0.5397500322123439,\n        \"num_unique_values\": 6,\n        \"samples\": [\n          0.5397500322123439\n        ],\n        \"semantic_type\": \"\",\n        \"description\": \"\"\n      }\n    }\n  ]\n}",
              "type": "dataframe",
              "variable_name": "milk_rules_df"
            },
            "text/html": [
              "\n",
              "  <div id=\"df-0a7bedb4-532e-43f7-8a06-a265968ddbdc\" class=\"colab-df-container\">\n",
              "    <div>\n",
              "<style scoped>\n",
              "    .dataframe tbody tr th:only-of-type {\n",
              "        vertical-align: middle;\n",
              "    }\n",
              "\n",
              "    .dataframe tbody tr th {\n",
              "        vertical-align: top;\n",
              "    }\n",
              "\n",
              "    .dataframe thead th {\n",
              "        text-align: right;\n",
              "    }\n",
              "</style>\n",
              "<table border=\"1\" class=\"dataframe\">\n",
              "  <thead>\n",
              "    <tr style=\"text-align: right;\">\n",
              "      <th></th>\n",
              "      <th>antecedents</th>\n",
              "      <th>consequents</th>\n",
              "      <th>antecedent support</th>\n",
              "      <th>consequent support</th>\n",
              "      <th>support</th>\n",
              "      <th>confidence</th>\n",
              "      <th>lift</th>\n",
              "      <th>leverage</th>\n",
              "      <th>conviction</th>\n",
              "      <th>zhangs_metric</th>\n",
              "    </tr>\n",
              "  </thead>\n",
              "  <tbody>\n",
              "    <tr>\n",
              "      <th>0</th>\n",
              "      <td>(brandy)</td>\n",
              "      <td>(whole milk)</td>\n",
              "      <td>0.002540</td>\n",
              "      <td>0.157923</td>\n",
              "      <td>0.000869</td>\n",
              "      <td>0.342105</td>\n",
              "      <td>2.166281</td>\n",
              "      <td>0.000468</td>\n",
              "      <td>1.279957</td>\n",
              "      <td>0.539750</td>\n",
              "    </tr>\n",
              "    <tr>\n",
              "      <th>1</th>\n",
              "      <td>(softener)</td>\n",
              "      <td>(whole milk)</td>\n",
              "      <td>0.002740</td>\n",
              "      <td>0.157923</td>\n",
              "      <td>0.000802</td>\n",
              "      <td>0.292683</td>\n",
              "      <td>1.853328</td>\n",
              "      <td>0.000369</td>\n",
              "      <td>1.190523</td>\n",
              "      <td>0.461695</td>\n",
              "    </tr>\n",
              "    <tr>\n",
              "      <th>2</th>\n",
              "      <td>(canned fruit)</td>\n",
              "      <td>(whole milk)</td>\n",
              "      <td>0.001403</td>\n",
              "      <td>0.157923</td>\n",
              "      <td>0.000401</td>\n",
              "      <td>0.285714</td>\n",
              "      <td>1.809201</td>\n",
              "      <td>0.000179</td>\n",
              "      <td>1.178908</td>\n",
              "      <td>0.447899</td>\n",
              "    </tr>\n",
              "    <tr>\n",
              "      <th>3</th>\n",
              "      <td>(syrup)</td>\n",
              "      <td>(whole milk)</td>\n",
              "      <td>0.001403</td>\n",
              "      <td>0.157923</td>\n",
              "      <td>0.000401</td>\n",
              "      <td>0.285714</td>\n",
              "      <td>1.809201</td>\n",
              "      <td>0.000179</td>\n",
              "      <td>1.178908</td>\n",
              "      <td>0.447899</td>\n",
              "    </tr>\n",
              "    <tr>\n",
              "      <th>4</th>\n",
              "      <td>(artif. sweetener)</td>\n",
              "      <td>(whole milk)</td>\n",
              "      <td>0.001938</td>\n",
              "      <td>0.157923</td>\n",
              "      <td>0.000535</td>\n",
              "      <td>0.275862</td>\n",
              "      <td>1.746815</td>\n",
              "      <td>0.000229</td>\n",
              "      <td>1.162868</td>\n",
              "      <td>0.428360</td>\n",
              "    </tr>\n",
              "  </tbody>\n",
              "</table>\n",
              "</div>\n",
              "    <div class=\"colab-df-buttons\">\n",
              "\n",
              "  <div class=\"colab-df-container\">\n",
              "    <button class=\"colab-df-convert\" onclick=\"convertToInteractive('df-0a7bedb4-532e-43f7-8a06-a265968ddbdc')\"\n",
              "            title=\"Convert this dataframe to an interactive table.\"\n",
              "            style=\"display:none;\">\n",
              "\n",
              "  <svg xmlns=\"http://www.w3.org/2000/svg\" height=\"24px\" viewBox=\"0 -960 960 960\">\n",
              "    <path d=\"M120-120v-720h720v720H120Zm60-500h600v-160H180v160Zm220 220h160v-160H400v160Zm0 220h160v-160H400v160ZM180-400h160v-160H180v160Zm440 0h160v-160H620v160ZM180-180h160v-160H180v160Zm440 0h160v-160H620v160Z\"/>\n",
              "  </svg>\n",
              "    </button>\n",
              "\n",
              "  <style>\n",
              "    .colab-df-container {\n",
              "      display:flex;\n",
              "      gap: 12px;\n",
              "    }\n",
              "\n",
              "    .colab-df-convert {\n",
              "      background-color: #E8F0FE;\n",
              "      border: none;\n",
              "      border-radius: 50%;\n",
              "      cursor: pointer;\n",
              "      display: none;\n",
              "      fill: #1967D2;\n",
              "      height: 32px;\n",
              "      padding: 0 0 0 0;\n",
              "      width: 32px;\n",
              "    }\n",
              "\n",
              "    .colab-df-convert:hover {\n",
              "      background-color: #E2EBFA;\n",
              "      box-shadow: 0px 1px 2px rgba(60, 64, 67, 0.3), 0px 1px 3px 1px rgba(60, 64, 67, 0.15);\n",
              "      fill: #174EA6;\n",
              "    }\n",
              "\n",
              "    .colab-df-buttons div {\n",
              "      margin-bottom: 4px;\n",
              "    }\n",
              "\n",
              "    [theme=dark] .colab-df-convert {\n",
              "      background-color: #3B4455;\n",
              "      fill: #D2E3FC;\n",
              "    }\n",
              "\n",
              "    [theme=dark] .colab-df-convert:hover {\n",
              "      background-color: #434B5C;\n",
              "      box-shadow: 0px 1px 3px 1px rgba(0, 0, 0, 0.15);\n",
              "      filter: drop-shadow(0px 1px 2px rgba(0, 0, 0, 0.3));\n",
              "      fill: #FFFFFF;\n",
              "    }\n",
              "  </style>\n",
              "\n",
              "    <script>\n",
              "      const buttonEl =\n",
              "        document.querySelector('#df-0a7bedb4-532e-43f7-8a06-a265968ddbdc button.colab-df-convert');\n",
              "      buttonEl.style.display =\n",
              "        google.colab.kernel.accessAllowed ? 'block' : 'none';\n",
              "\n",
              "      async function convertToInteractive(key) {\n",
              "        const element = document.querySelector('#df-0a7bedb4-532e-43f7-8a06-a265968ddbdc');\n",
              "        const dataTable =\n",
              "          await google.colab.kernel.invokeFunction('convertToInteractive',\n",
              "                                                    [key], {});\n",
              "        if (!dataTable) return;\n",
              "\n",
              "        const docLinkHtml = 'Like what you see? Visit the ' +\n",
              "          '<a target=\"_blank\" href=https://colab.research.google.com/notebooks/data_table.ipynb>data table notebook</a>'\n",
              "          + ' to learn more about interactive tables.';\n",
              "        element.innerHTML = '';\n",
              "        dataTable['output_type'] = 'display_data';\n",
              "        await google.colab.output.renderOutput(dataTable, element);\n",
              "        const docLink = document.createElement('div');\n",
              "        docLink.innerHTML = docLinkHtml;\n",
              "        element.appendChild(docLink);\n",
              "      }\n",
              "    </script>\n",
              "  </div>\n",
              "\n",
              "\n",
              "<div id=\"df-769e5bb6-0d07-42b1-bb65-61f551b98dd3\">\n",
              "  <button class=\"colab-df-quickchart\" onclick=\"quickchart('df-769e5bb6-0d07-42b1-bb65-61f551b98dd3')\"\n",
              "            title=\"Suggest charts\"\n",
              "            style=\"display:none;\">\n",
              "\n",
              "<svg xmlns=\"http://www.w3.org/2000/svg\" height=\"24px\"viewBox=\"0 0 24 24\"\n",
              "     width=\"24px\">\n",
              "    <g>\n",
              "        <path d=\"M19 3H5c-1.1 0-2 .9-2 2v14c0 1.1.9 2 2 2h14c1.1 0 2-.9 2-2V5c0-1.1-.9-2-2-2zM9 17H7v-7h2v7zm4 0h-2V7h2v10zm4 0h-2v-4h2v4z\"/>\n",
              "    </g>\n",
              "</svg>\n",
              "  </button>\n",
              "\n",
              "<style>\n",
              "  .colab-df-quickchart {\n",
              "      --bg-color: #E8F0FE;\n",
              "      --fill-color: #1967D2;\n",
              "      --hover-bg-color: #E2EBFA;\n",
              "      --hover-fill-color: #174EA6;\n",
              "      --disabled-fill-color: #AAA;\n",
              "      --disabled-bg-color: #DDD;\n",
              "  }\n",
              "\n",
              "  [theme=dark] .colab-df-quickchart {\n",
              "      --bg-color: #3B4455;\n",
              "      --fill-color: #D2E3FC;\n",
              "      --hover-bg-color: #434B5C;\n",
              "      --hover-fill-color: #FFFFFF;\n",
              "      --disabled-bg-color: #3B4455;\n",
              "      --disabled-fill-color: #666;\n",
              "  }\n",
              "\n",
              "  .colab-df-quickchart {\n",
              "    background-color: var(--bg-color);\n",
              "    border: none;\n",
              "    border-radius: 50%;\n",
              "    cursor: pointer;\n",
              "    display: none;\n",
              "    fill: var(--fill-color);\n",
              "    height: 32px;\n",
              "    padding: 0;\n",
              "    width: 32px;\n",
              "  }\n",
              "\n",
              "  .colab-df-quickchart:hover {\n",
              "    background-color: var(--hover-bg-color);\n",
              "    box-shadow: 0 1px 2px rgba(60, 64, 67, 0.3), 0 1px 3px 1px rgba(60, 64, 67, 0.15);\n",
              "    fill: var(--button-hover-fill-color);\n",
              "  }\n",
              "\n",
              "  .colab-df-quickchart-complete:disabled,\n",
              "  .colab-df-quickchart-complete:disabled:hover {\n",
              "    background-color: var(--disabled-bg-color);\n",
              "    fill: var(--disabled-fill-color);\n",
              "    box-shadow: none;\n",
              "  }\n",
              "\n",
              "  .colab-df-spinner {\n",
              "    border: 2px solid var(--fill-color);\n",
              "    border-color: transparent;\n",
              "    border-bottom-color: var(--fill-color);\n",
              "    animation:\n",
              "      spin 1s steps(1) infinite;\n",
              "  }\n",
              "\n",
              "  @keyframes spin {\n",
              "    0% {\n",
              "      border-color: transparent;\n",
              "      border-bottom-color: var(--fill-color);\n",
              "      border-left-color: var(--fill-color);\n",
              "    }\n",
              "    20% {\n",
              "      border-color: transparent;\n",
              "      border-left-color: var(--fill-color);\n",
              "      border-top-color: var(--fill-color);\n",
              "    }\n",
              "    30% {\n",
              "      border-color: transparent;\n",
              "      border-left-color: var(--fill-color);\n",
              "      border-top-color: var(--fill-color);\n",
              "      border-right-color: var(--fill-color);\n",
              "    }\n",
              "    40% {\n",
              "      border-color: transparent;\n",
              "      border-right-color: var(--fill-color);\n",
              "      border-top-color: var(--fill-color);\n",
              "    }\n",
              "    60% {\n",
              "      border-color: transparent;\n",
              "      border-right-color: var(--fill-color);\n",
              "    }\n",
              "    80% {\n",
              "      border-color: transparent;\n",
              "      border-right-color: var(--fill-color);\n",
              "      border-bottom-color: var(--fill-color);\n",
              "    }\n",
              "    90% {\n",
              "      border-color: transparent;\n",
              "      border-bottom-color: var(--fill-color);\n",
              "    }\n",
              "  }\n",
              "</style>\n",
              "\n",
              "  <script>\n",
              "    async function quickchart(key) {\n",
              "      const quickchartButtonEl =\n",
              "        document.querySelector('#' + key + ' button');\n",
              "      quickchartButtonEl.disabled = true;  // To prevent multiple clicks.\n",
              "      quickchartButtonEl.classList.add('colab-df-spinner');\n",
              "      try {\n",
              "        const charts = await google.colab.kernel.invokeFunction(\n",
              "            'suggestCharts', [key], {});\n",
              "      } catch (error) {\n",
              "        console.error('Error during call to suggestCharts:', error);\n",
              "      }\n",
              "      quickchartButtonEl.classList.remove('colab-df-spinner');\n",
              "      quickchartButtonEl.classList.add('colab-df-quickchart-complete');\n",
              "    }\n",
              "    (() => {\n",
              "      let quickchartButtonEl =\n",
              "        document.querySelector('#df-769e5bb6-0d07-42b1-bb65-61f551b98dd3 button');\n",
              "      quickchartButtonEl.style.display =\n",
              "        google.colab.kernel.accessAllowed ? 'block' : 'none';\n",
              "    })();\n",
              "  </script>\n",
              "</div>\n",
              "\n",
              "    </div>\n",
              "  </div>\n"
            ],
            "text/plain": [
              "          antecedents   consequents  antecedent support  consequent support  \\\n",
              "0            (brandy)  (whole milk)            0.002540            0.157923   \n",
              "1          (softener)  (whole milk)            0.002740            0.157923   \n",
              "2      (canned fruit)  (whole milk)            0.001403            0.157923   \n",
              "3             (syrup)  (whole milk)            0.001403            0.157923   \n",
              "4  (artif. sweetener)  (whole milk)            0.001938            0.157923   \n",
              "\n",
              "    support  confidence      lift  leverage  conviction  zhangs_metric  \n",
              "0  0.000869    0.342105  2.166281  0.000468    1.279957       0.539750  \n",
              "1  0.000802    0.292683  1.853328  0.000369    1.190523       0.461695  \n",
              "2  0.000401    0.285714  1.809201  0.000179    1.178908       0.447899  \n",
              "3  0.000401    0.285714  1.809201  0.000179    1.178908       0.447899  \n",
              "4  0.000535    0.275862  1.746815  0.000229    1.162868       0.428360  "
            ]
          },
          "execution_count": 98,
          "metadata": {},
          "output_type": "execute_result"
        }
      ]
    },
    {
      "cell_type": "code",
      "source": [
        "exit(1)"
      ],
      "metadata": {
        "id": "mjk_Kolh-2Km"
      },
      "execution_count": 99,
      "outputs": []
    },
    {
      "cell_type": "markdown",
      "source": [
        "# Data Calculations"
      ],
      "metadata": {
        "id": "WdTGcOzhM5xa"
      }
    },
    {
      "cell_type": "markdown",
      "source": [
        "## strategy\n",
        "1. Select one of the columns to test and train = high, low, volumne\n",
        "2. Select input data into test and train\n",
        "3. Run your models\n",
        "    a. Linear regression\n",
        "    b. Random Forest\n",
        "4. Stop Words\n",
        "5. Stemming\n",
        "6. Lemmatization\n",
        "\n",
        "\n"
      ],
      "metadata": {
        "id": "vfrS4mypZi2Q"
      }
    },
    {
      "cell_type": "markdown",
      "source": [
        "Tokenization"
      ],
      "metadata": {
        "id": "R-oLO-_9BfZb"
      }
    },
    {
      "cell_type": "markdown",
      "source": [
        "## Linear Regression"
      ],
      "metadata": {
        "id": "y3uTPhn_qw8K"
      }
    },
    {
      "cell_type": "markdown",
      "source": [
        "date vs volume\n",
        "\n",
        "predict values of volume\n",
        "\n",
        "Linear regression is a statistical method used to model the relationship between a dependent variable and one or more independent variables\n",
        "\n",
        "independent variable = date\n",
        "dependent variable = volume"
      ],
      "metadata": {
        "id": "ET4oryzXu9oA"
      }
    },
    {
      "cell_type": "code",
      "source": [
        "from sklearn.linear_model import LinearRegression\n",
        "\n",
        "model = LinearRegression()"
      ],
      "metadata": {
        "id": "jiWGFvkUuJDF"
      },
      "execution_count": 100,
      "outputs": []
    },
    {
      "cell_type": "code",
      "source": [
        "input_data_df.head()"
      ],
      "metadata": {
        "id": "zpBpqNYbCFlx",
        "outputId": "06de6eb0-2374-441f-bc80-8938839cdbf7",
        "colab": {
          "base_uri": "https://localhost:8080/",
          "height": 204
        }
      },
      "execution_count": 101,
      "outputs": [
        {
          "data": {
            "application/vnd.google.colaboratory.intrinsic+json": {
              "summary": "{\n  \"name\": \"input_data_df\",\n  \"rows\": 38765,\n  \"fields\": [\n    {\n      \"column\": \"Member_number\",\n      \"properties\": {\n        \"dtype\": \"number\",\n        \"std\": 1153,\n        \"min\": 1000,\n        \"max\": 5000,\n        \"num_unique_values\": 3898,\n        \"samples\": [\n          3785,\n          1384,\n          3330\n        ],\n        \"semantic_type\": \"\",\n        \"description\": \"\"\n      }\n    },\n    {\n      \"column\": \"Date\",\n      \"properties\": {\n        \"dtype\": \"date\",\n        \"min\": \"2014-01-01 00:00:00\",\n        \"max\": \"2015-12-30 00:00:00\",\n        \"num_unique_values\": 728,\n        \"samples\": [\n          \"2015-07-19 00:00:00\",\n          \"2015-03-28 00:00:00\",\n          \"2015-07-29 00:00:00\"\n        ],\n        \"semantic_type\": \"\",\n        \"description\": \"\"\n      }\n    },\n    {\n      \"column\": \"itemDescription\",\n      \"properties\": {\n        \"dtype\": \"category\",\n        \"num_unique_values\": 167,\n        \"samples\": [\n          \"cookware\",\n          \"canned fruit\",\n          \"specialty cheese\"\n        ],\n        \"semantic_type\": \"\",\n        \"description\": \"\"\n      }\n    }\n  ]\n}",
              "type": "dataframe",
              "variable_name": "input_data_df"
            },
            "text/html": [
              "\n",
              "  <div id=\"df-6645e25f-5f66-44ac-8572-cf60ed3c175f\" class=\"colab-df-container\">\n",
              "    <div>\n",
              "<style scoped>\n",
              "    .dataframe tbody tr th:only-of-type {\n",
              "        vertical-align: middle;\n",
              "    }\n",
              "\n",
              "    .dataframe tbody tr th {\n",
              "        vertical-align: top;\n",
              "    }\n",
              "\n",
              "    .dataframe thead th {\n",
              "        text-align: right;\n",
              "    }\n",
              "</style>\n",
              "<table border=\"1\" class=\"dataframe\">\n",
              "  <thead>\n",
              "    <tr style=\"text-align: right;\">\n",
              "      <th></th>\n",
              "      <th>Member_number</th>\n",
              "      <th>Date</th>\n",
              "      <th>itemDescription</th>\n",
              "    </tr>\n",
              "  </thead>\n",
              "  <tbody>\n",
              "    <tr>\n",
              "      <th>0</th>\n",
              "      <td>1808</td>\n",
              "      <td>2015-07-21</td>\n",
              "      <td>tropical fruit</td>\n",
              "    </tr>\n",
              "    <tr>\n",
              "      <th>1</th>\n",
              "      <td>2552</td>\n",
              "      <td>2015-01-05</td>\n",
              "      <td>whole milk</td>\n",
              "    </tr>\n",
              "    <tr>\n",
              "      <th>2</th>\n",
              "      <td>2300</td>\n",
              "      <td>2015-09-19</td>\n",
              "      <td>pip fruit</td>\n",
              "    </tr>\n",
              "    <tr>\n",
              "      <th>3</th>\n",
              "      <td>1187</td>\n",
              "      <td>2015-12-12</td>\n",
              "      <td>other vegetables</td>\n",
              "    </tr>\n",
              "    <tr>\n",
              "      <th>4</th>\n",
              "      <td>3037</td>\n",
              "      <td>2015-02-01</td>\n",
              "      <td>whole milk</td>\n",
              "    </tr>\n",
              "  </tbody>\n",
              "</table>\n",
              "</div>\n",
              "    <div class=\"colab-df-buttons\">\n",
              "\n",
              "  <div class=\"colab-df-container\">\n",
              "    <button class=\"colab-df-convert\" onclick=\"convertToInteractive('df-6645e25f-5f66-44ac-8572-cf60ed3c175f')\"\n",
              "            title=\"Convert this dataframe to an interactive table.\"\n",
              "            style=\"display:none;\">\n",
              "\n",
              "  <svg xmlns=\"http://www.w3.org/2000/svg\" height=\"24px\" viewBox=\"0 -960 960 960\">\n",
              "    <path d=\"M120-120v-720h720v720H120Zm60-500h600v-160H180v160Zm220 220h160v-160H400v160Zm0 220h160v-160H400v160ZM180-400h160v-160H180v160Zm440 0h160v-160H620v160ZM180-180h160v-160H180v160Zm440 0h160v-160H620v160Z\"/>\n",
              "  </svg>\n",
              "    </button>\n",
              "\n",
              "  <style>\n",
              "    .colab-df-container {\n",
              "      display:flex;\n",
              "      gap: 12px;\n",
              "    }\n",
              "\n",
              "    .colab-df-convert {\n",
              "      background-color: #E8F0FE;\n",
              "      border: none;\n",
              "      border-radius: 50%;\n",
              "      cursor: pointer;\n",
              "      display: none;\n",
              "      fill: #1967D2;\n",
              "      height: 32px;\n",
              "      padding: 0 0 0 0;\n",
              "      width: 32px;\n",
              "    }\n",
              "\n",
              "    .colab-df-convert:hover {\n",
              "      background-color: #E2EBFA;\n",
              "      box-shadow: 0px 1px 2px rgba(60, 64, 67, 0.3), 0px 1px 3px 1px rgba(60, 64, 67, 0.15);\n",
              "      fill: #174EA6;\n",
              "    }\n",
              "\n",
              "    .colab-df-buttons div {\n",
              "      margin-bottom: 4px;\n",
              "    }\n",
              "\n",
              "    [theme=dark] .colab-df-convert {\n",
              "      background-color: #3B4455;\n",
              "      fill: #D2E3FC;\n",
              "    }\n",
              "\n",
              "    [theme=dark] .colab-df-convert:hover {\n",
              "      background-color: #434B5C;\n",
              "      box-shadow: 0px 1px 3px 1px rgba(0, 0, 0, 0.15);\n",
              "      filter: drop-shadow(0px 1px 2px rgba(0, 0, 0, 0.3));\n",
              "      fill: #FFFFFF;\n",
              "    }\n",
              "  </style>\n",
              "\n",
              "    <script>\n",
              "      const buttonEl =\n",
              "        document.querySelector('#df-6645e25f-5f66-44ac-8572-cf60ed3c175f button.colab-df-convert');\n",
              "      buttonEl.style.display =\n",
              "        google.colab.kernel.accessAllowed ? 'block' : 'none';\n",
              "\n",
              "      async function convertToInteractive(key) {\n",
              "        const element = document.querySelector('#df-6645e25f-5f66-44ac-8572-cf60ed3c175f');\n",
              "        const dataTable =\n",
              "          await google.colab.kernel.invokeFunction('convertToInteractive',\n",
              "                                                    [key], {});\n",
              "        if (!dataTable) return;\n",
              "\n",
              "        const docLinkHtml = 'Like what you see? Visit the ' +\n",
              "          '<a target=\"_blank\" href=https://colab.research.google.com/notebooks/data_table.ipynb>data table notebook</a>'\n",
              "          + ' to learn more about interactive tables.';\n",
              "        element.innerHTML = '';\n",
              "        dataTable['output_type'] = 'display_data';\n",
              "        await google.colab.output.renderOutput(dataTable, element);\n",
              "        const docLink = document.createElement('div');\n",
              "        docLink.innerHTML = docLinkHtml;\n",
              "        element.appendChild(docLink);\n",
              "      }\n",
              "    </script>\n",
              "  </div>\n",
              "\n",
              "\n",
              "<div id=\"df-4d822ddc-f3ba-47f1-9a4b-b6a5d1409bb3\">\n",
              "  <button class=\"colab-df-quickchart\" onclick=\"quickchart('df-4d822ddc-f3ba-47f1-9a4b-b6a5d1409bb3')\"\n",
              "            title=\"Suggest charts\"\n",
              "            style=\"display:none;\">\n",
              "\n",
              "<svg xmlns=\"http://www.w3.org/2000/svg\" height=\"24px\"viewBox=\"0 0 24 24\"\n",
              "     width=\"24px\">\n",
              "    <g>\n",
              "        <path d=\"M19 3H5c-1.1 0-2 .9-2 2v14c0 1.1.9 2 2 2h14c1.1 0 2-.9 2-2V5c0-1.1-.9-2-2-2zM9 17H7v-7h2v7zm4 0h-2V7h2v10zm4 0h-2v-4h2v4z\"/>\n",
              "    </g>\n",
              "</svg>\n",
              "  </button>\n",
              "\n",
              "<style>\n",
              "  .colab-df-quickchart {\n",
              "      --bg-color: #E8F0FE;\n",
              "      --fill-color: #1967D2;\n",
              "      --hover-bg-color: #E2EBFA;\n",
              "      --hover-fill-color: #174EA6;\n",
              "      --disabled-fill-color: #AAA;\n",
              "      --disabled-bg-color: #DDD;\n",
              "  }\n",
              "\n",
              "  [theme=dark] .colab-df-quickchart {\n",
              "      --bg-color: #3B4455;\n",
              "      --fill-color: #D2E3FC;\n",
              "      --hover-bg-color: #434B5C;\n",
              "      --hover-fill-color: #FFFFFF;\n",
              "      --disabled-bg-color: #3B4455;\n",
              "      --disabled-fill-color: #666;\n",
              "  }\n",
              "\n",
              "  .colab-df-quickchart {\n",
              "    background-color: var(--bg-color);\n",
              "    border: none;\n",
              "    border-radius: 50%;\n",
              "    cursor: pointer;\n",
              "    display: none;\n",
              "    fill: var(--fill-color);\n",
              "    height: 32px;\n",
              "    padding: 0;\n",
              "    width: 32px;\n",
              "  }\n",
              "\n",
              "  .colab-df-quickchart:hover {\n",
              "    background-color: var(--hover-bg-color);\n",
              "    box-shadow: 0 1px 2px rgba(60, 64, 67, 0.3), 0 1px 3px 1px rgba(60, 64, 67, 0.15);\n",
              "    fill: var(--button-hover-fill-color);\n",
              "  }\n",
              "\n",
              "  .colab-df-quickchart-complete:disabled,\n",
              "  .colab-df-quickchart-complete:disabled:hover {\n",
              "    background-color: var(--disabled-bg-color);\n",
              "    fill: var(--disabled-fill-color);\n",
              "    box-shadow: none;\n",
              "  }\n",
              "\n",
              "  .colab-df-spinner {\n",
              "    border: 2px solid var(--fill-color);\n",
              "    border-color: transparent;\n",
              "    border-bottom-color: var(--fill-color);\n",
              "    animation:\n",
              "      spin 1s steps(1) infinite;\n",
              "  }\n",
              "\n",
              "  @keyframes spin {\n",
              "    0% {\n",
              "      border-color: transparent;\n",
              "      border-bottom-color: var(--fill-color);\n",
              "      border-left-color: var(--fill-color);\n",
              "    }\n",
              "    20% {\n",
              "      border-color: transparent;\n",
              "      border-left-color: var(--fill-color);\n",
              "      border-top-color: var(--fill-color);\n",
              "    }\n",
              "    30% {\n",
              "      border-color: transparent;\n",
              "      border-left-color: var(--fill-color);\n",
              "      border-top-color: var(--fill-color);\n",
              "      border-right-color: var(--fill-color);\n",
              "    }\n",
              "    40% {\n",
              "      border-color: transparent;\n",
              "      border-right-color: var(--fill-color);\n",
              "      border-top-color: var(--fill-color);\n",
              "    }\n",
              "    60% {\n",
              "      border-color: transparent;\n",
              "      border-right-color: var(--fill-color);\n",
              "    }\n",
              "    80% {\n",
              "      border-color: transparent;\n",
              "      border-right-color: var(--fill-color);\n",
              "      border-bottom-color: var(--fill-color);\n",
              "    }\n",
              "    90% {\n",
              "      border-color: transparent;\n",
              "      border-bottom-color: var(--fill-color);\n",
              "    }\n",
              "  }\n",
              "</style>\n",
              "\n",
              "  <script>\n",
              "    async function quickchart(key) {\n",
              "      const quickchartButtonEl =\n",
              "        document.querySelector('#' + key + ' button');\n",
              "      quickchartButtonEl.disabled = true;  // To prevent multiple clicks.\n",
              "      quickchartButtonEl.classList.add('colab-df-spinner');\n",
              "      try {\n",
              "        const charts = await google.colab.kernel.invokeFunction(\n",
              "            'suggestCharts', [key], {});\n",
              "      } catch (error) {\n",
              "        console.error('Error during call to suggestCharts:', error);\n",
              "      }\n",
              "      quickchartButtonEl.classList.remove('colab-df-spinner');\n",
              "      quickchartButtonEl.classList.add('colab-df-quickchart-complete');\n",
              "    }\n",
              "    (() => {\n",
              "      let quickchartButtonEl =\n",
              "        document.querySelector('#df-4d822ddc-f3ba-47f1-9a4b-b6a5d1409bb3 button');\n",
              "      quickchartButtonEl.style.display =\n",
              "        google.colab.kernel.accessAllowed ? 'block' : 'none';\n",
              "    })();\n",
              "  </script>\n",
              "</div>\n",
              "\n",
              "    </div>\n",
              "  </div>\n"
            ],
            "text/plain": [
              "   Member_number       Date   itemDescription\n",
              "0           1808 2015-07-21    tropical fruit\n",
              "1           2552 2015-01-05        whole milk\n",
              "2           2300 2015-09-19         pip fruit\n",
              "3           1187 2015-12-12  other vegetables\n",
              "4           3037 2015-02-01        whole milk"
            ]
          },
          "execution_count": 101,
          "metadata": {},
          "output_type": "execute_result"
        }
      ]
    },
    {
      "cell_type": "code",
      "source": [
        "x = input_data_df.copy()\n",
        "y = input_data_df['Close']"
      ],
      "metadata": {
        "id": "Y8mXJDjR2bcn",
        "outputId": "e75904c8-f649-40ef-a9fc-c1e553be19d7",
        "colab": {
          "base_uri": "https://localhost:8080/",
          "height": 565
        }
      },
      "execution_count": 102,
      "outputs": [
        {
          "ename": "KeyError",
          "evalue": "'Close'",
          "output_type": "error",
          "traceback": [
            "\u001b[0;31m---------------------------------------------------------------------------\u001b[0m",
            "\u001b[0;31mKeyError\u001b[0m                                  Traceback (most recent call last)",
            "\u001b[0;32m/usr/local/lib/python3.10/dist-packages/pandas/core/indexes/base.py\u001b[0m in \u001b[0;36mget_loc\u001b[0;34m(self, key)\u001b[0m\n\u001b[1;32m   3804\u001b[0m         \u001b[0;32mtry\u001b[0m\u001b[0;34m:\u001b[0m\u001b[0;34m\u001b[0m\u001b[0;34m\u001b[0m\u001b[0m\n\u001b[0;32m-> 3805\u001b[0;31m             \u001b[0;32mreturn\u001b[0m \u001b[0mself\u001b[0m\u001b[0;34m.\u001b[0m\u001b[0m_engine\u001b[0m\u001b[0;34m.\u001b[0m\u001b[0mget_loc\u001b[0m\u001b[0;34m(\u001b[0m\u001b[0mcasted_key\u001b[0m\u001b[0;34m)\u001b[0m\u001b[0;34m\u001b[0m\u001b[0;34m\u001b[0m\u001b[0m\n\u001b[0m\u001b[1;32m   3806\u001b[0m         \u001b[0;32mexcept\u001b[0m \u001b[0mKeyError\u001b[0m \u001b[0;32mas\u001b[0m \u001b[0merr\u001b[0m\u001b[0;34m:\u001b[0m\u001b[0;34m\u001b[0m\u001b[0;34m\u001b[0m\u001b[0m\n",
            "\u001b[0;32mindex.pyx\u001b[0m in \u001b[0;36mpandas._libs.index.IndexEngine.get_loc\u001b[0;34m()\u001b[0m\n",
            "\u001b[0;32mindex.pyx\u001b[0m in \u001b[0;36mpandas._libs.index.IndexEngine.get_loc\u001b[0;34m()\u001b[0m\n",
            "\u001b[0;32mpandas/_libs/hashtable_class_helper.pxi\u001b[0m in \u001b[0;36mpandas._libs.hashtable.PyObjectHashTable.get_item\u001b[0;34m()\u001b[0m\n",
            "\u001b[0;32mpandas/_libs/hashtable_class_helper.pxi\u001b[0m in \u001b[0;36mpandas._libs.hashtable.PyObjectHashTable.get_item\u001b[0;34m()\u001b[0m\n",
            "\u001b[0;31mKeyError\u001b[0m: 'Close'",
            "\nThe above exception was the direct cause of the following exception:\n",
            "\u001b[0;31mKeyError\u001b[0m                                  Traceback (most recent call last)",
            "\u001b[0;32m/tmp/ipykernel_12110/823083322.py\u001b[0m in \u001b[0;36m<cell line: 2>\u001b[0;34m()\u001b[0m\n\u001b[1;32m      1\u001b[0m \u001b[0mx\u001b[0m \u001b[0;34m=\u001b[0m \u001b[0minput_data_df\u001b[0m\u001b[0;34m.\u001b[0m\u001b[0mcopy\u001b[0m\u001b[0;34m(\u001b[0m\u001b[0;34m)\u001b[0m\u001b[0;34m\u001b[0m\u001b[0;34m\u001b[0m\u001b[0m\n\u001b[0;32m----> 2\u001b[0;31m \u001b[0my\u001b[0m \u001b[0;34m=\u001b[0m \u001b[0minput_data_df\u001b[0m\u001b[0;34m[\u001b[0m\u001b[0;34m'Close'\u001b[0m\u001b[0;34m]\u001b[0m\u001b[0;34m\u001b[0m\u001b[0;34m\u001b[0m\u001b[0m\n\u001b[0m",
            "\u001b[0;32m/usr/local/lib/python3.10/dist-packages/pandas/core/frame.py\u001b[0m in \u001b[0;36m__getitem__\u001b[0;34m(self, key)\u001b[0m\n\u001b[1;32m   4100\u001b[0m             \u001b[0;32mif\u001b[0m \u001b[0mself\u001b[0m\u001b[0;34m.\u001b[0m\u001b[0mcolumns\u001b[0m\u001b[0;34m.\u001b[0m\u001b[0mnlevels\u001b[0m \u001b[0;34m>\u001b[0m \u001b[0;36m1\u001b[0m\u001b[0;34m:\u001b[0m\u001b[0;34m\u001b[0m\u001b[0;34m\u001b[0m\u001b[0m\n\u001b[1;32m   4101\u001b[0m                 \u001b[0;32mreturn\u001b[0m \u001b[0mself\u001b[0m\u001b[0;34m.\u001b[0m\u001b[0m_getitem_multilevel\u001b[0m\u001b[0;34m(\u001b[0m\u001b[0mkey\u001b[0m\u001b[0;34m)\u001b[0m\u001b[0;34m\u001b[0m\u001b[0;34m\u001b[0m\u001b[0m\n\u001b[0;32m-> 4102\u001b[0;31m             \u001b[0mindexer\u001b[0m \u001b[0;34m=\u001b[0m \u001b[0mself\u001b[0m\u001b[0;34m.\u001b[0m\u001b[0mcolumns\u001b[0m\u001b[0;34m.\u001b[0m\u001b[0mget_loc\u001b[0m\u001b[0;34m(\u001b[0m\u001b[0mkey\u001b[0m\u001b[0;34m)\u001b[0m\u001b[0;34m\u001b[0m\u001b[0;34m\u001b[0m\u001b[0m\n\u001b[0m\u001b[1;32m   4103\u001b[0m             \u001b[0;32mif\u001b[0m \u001b[0mis_integer\u001b[0m\u001b[0;34m(\u001b[0m\u001b[0mindexer\u001b[0m\u001b[0;34m)\u001b[0m\u001b[0;34m:\u001b[0m\u001b[0;34m\u001b[0m\u001b[0;34m\u001b[0m\u001b[0m\n\u001b[1;32m   4104\u001b[0m                 \u001b[0mindexer\u001b[0m \u001b[0;34m=\u001b[0m \u001b[0;34m[\u001b[0m\u001b[0mindexer\u001b[0m\u001b[0;34m]\u001b[0m\u001b[0;34m\u001b[0m\u001b[0;34m\u001b[0m\u001b[0m\n",
            "\u001b[0;32m/usr/local/lib/python3.10/dist-packages/pandas/core/indexes/base.py\u001b[0m in \u001b[0;36mget_loc\u001b[0;34m(self, key)\u001b[0m\n\u001b[1;32m   3810\u001b[0m             ):\n\u001b[1;32m   3811\u001b[0m                 \u001b[0;32mraise\u001b[0m \u001b[0mInvalidIndexError\u001b[0m\u001b[0;34m(\u001b[0m\u001b[0mkey\u001b[0m\u001b[0;34m)\u001b[0m\u001b[0;34m\u001b[0m\u001b[0;34m\u001b[0m\u001b[0m\n\u001b[0;32m-> 3812\u001b[0;31m             \u001b[0;32mraise\u001b[0m \u001b[0mKeyError\u001b[0m\u001b[0;34m(\u001b[0m\u001b[0mkey\u001b[0m\u001b[0;34m)\u001b[0m \u001b[0;32mfrom\u001b[0m \u001b[0merr\u001b[0m\u001b[0;34m\u001b[0m\u001b[0;34m\u001b[0m\u001b[0m\n\u001b[0m\u001b[1;32m   3813\u001b[0m         \u001b[0;32mexcept\u001b[0m \u001b[0mTypeError\u001b[0m\u001b[0;34m:\u001b[0m\u001b[0;34m\u001b[0m\u001b[0;34m\u001b[0m\u001b[0m\n\u001b[1;32m   3814\u001b[0m             \u001b[0;31m# If we have a listlike key, _check_indexing_error will raise\u001b[0m\u001b[0;34m\u001b[0m\u001b[0;34m\u001b[0m\u001b[0m\n",
            "\u001b[0;31mKeyError\u001b[0m: 'Close'"
          ]
        }
      ]
    },
    {
      "cell_type": "code",
      "source": [
        "type(x)"
      ],
      "metadata": {
        "id": "oitW4reGkP-a"
      },
      "execution_count": null,
      "outputs": []
    },
    {
      "cell_type": "code",
      "source": [
        "type(y)"
      ],
      "metadata": {
        "id": "ewXGUjaOkZeC"
      },
      "execution_count": null,
      "outputs": []
    },
    {
      "cell_type": "code",
      "source": [
        "# x2 = x.to_frame()\n",
        "x2 = x\n",
        "\n",
        "# print\n",
        "x2"
      ],
      "metadata": {
        "id": "1obsA_-TmSjr"
      },
      "execution_count": null,
      "outputs": []
    },
    {
      "cell_type": "code",
      "source": [
        "# y2 = y.to_frame()\n",
        "y2 = y\n",
        "\n",
        "#print\n",
        "y2"
      ],
      "metadata": {
        "id": "BDcOvTCLmap5"
      },
      "execution_count": null,
      "outputs": []
    },
    {
      "cell_type": "code",
      "source": [
        "# x3 = x2.reset_index(drop=True)\n",
        "x3 = x2\n",
        "# drop column 'B'\n",
        "x3 = x3.drop('Date', axis=1)\n",
        "\n",
        "# print\n",
        "x3"
      ],
      "metadata": {
        "id": "M1HP_UCdnh4Z"
      },
      "execution_count": null,
      "outputs": []
    },
    {
      "cell_type": "code",
      "source": [
        "# y3 =  y2.reset_index(drop=True)\n",
        "y3 = y2\n",
        "\n",
        "# print\n",
        "y3"
      ],
      "metadata": {
        "id": "bZ7wbpUNoUPH"
      },
      "execution_count": null,
      "outputs": []
    },
    {
      "cell_type": "code",
      "source": [
        "print('Data type = ( x3 = )',type(x3),  'y3 =', type(y3))"
      ],
      "metadata": {
        "id": "UmgpN3MdMvrV"
      },
      "execution_count": null,
      "outputs": []
    },
    {
      "cell_type": "code",
      "source": [
        "# Train the model\n",
        "model.fit(x3, y3)\n",
        "# model.fit(x3.values.reshape(-1, 1), y3.values.reshape(-1, 1))\n",
        "\n",
        "\n",
        "# Evaluate the model\n",
        "# r2_score = model.score(x3.values.astype(float).reshape(-1, 1), y3.values.reshape(-1, 1))\n",
        "r2_score = model.score(x3, y3)\n",
        "print(f\"R-squared value: {r2_score}\")"
      ],
      "metadata": {
        "id": "qe0jWNDW3w4L"
      },
      "execution_count": null,
      "outputs": []
    },
    {
      "cell_type": "markdown",
      "source": [
        "## Random Forest"
      ],
      "metadata": {
        "id": "ZXmfggPye058"
      }
    },
    {
      "cell_type": "code",
      "source": [
        "model_rand = RandomForestRegressor(n_estimators=200, random_state = 42)"
      ],
      "metadata": {
        "id": "HD2AnkkDe4PH"
      },
      "execution_count": null,
      "outputs": []
    },
    {
      "cell_type": "code",
      "source": [
        "model_rand.fit(x, y)"
      ],
      "metadata": {
        "id": "9CAUa4Ppe7U0"
      },
      "execution_count": null,
      "outputs": []
    },
    {
      "cell_type": "code",
      "source": [
        "r2_score-rf = model.score(x3, y3)\n",
        "print(f\"R-squared value: {r2_scor_rf}\")"
      ],
      "metadata": {
        "id": "5-NkVFO_gfkK"
      },
      "execution_count": null,
      "outputs": []
    },
    {
      "cell_type": "markdown",
      "source": [
        "The R-squared value measures how well the linear regression model fits the data, ranging from 0 to 1, where 1 indicates a perfect fit."
      ],
      "metadata": {
        "id": "KXm8cnJ333h_"
      }
    },
    {
      "cell_type": "code",
      "source": [
        "text_location = input_data_df.columns.get_loc('text')\n",
        "\n",
        "# Create a new column 'Country'\n",
        "input_data_df['text_processed'] = \"\"\n",
        "\n",
        "# Insert the 'Country' column after the 'Name' column\n",
        "input_data_df.insert(text_location + 1, 'text_processed', input_data_df.pop('text_processed'))\n",
        "\n",
        "text_processed_location = input_data_df.columns.get_loc('text_processed')\n",
        "\n",
        "# Create a new column 'Country'\n",
        "input_data_df['text_processed_2'] = \"\"\n",
        "\n",
        "# Insert the 'Country' column after the 'Name' column\n",
        "input_data_df.insert(text_processed_location + 1, 'text_processed_2', input_data_df.pop('text_processed_2'))\n",
        "\n",
        "text_processed_location_2 = input_data_df.columns.get_loc('text_processed_2')\n",
        "\n",
        "# Create a new column 'Country'\n",
        "input_data_df['text_processed_3'] = \"\"\n",
        "\n",
        "# Insert the 'Country' column after the 'Name' column\n",
        "input_data_df.insert(text_processed_location_2 + 1, 'text_processed_3', input_data_df.pop('text_processed_3'))\n",
        "\n",
        "\n",
        "# print\n",
        "\n",
        "input_data_df.head()\n",
        "\n",
        "# print\n",
        "\n",
        "input_data_df.head()"
      ],
      "metadata": {
        "id": "C0ar_eP0DVEa"
      },
      "execution_count": null,
      "outputs": []
    },
    {
      "cell_type": "code",
      "source": [],
      "metadata": {
        "id": "zpFTrK1WPvXZ"
      },
      "execution_count": null,
      "outputs": []
    },
    {
      "cell_type": "markdown",
      "source": [
        "## 1. Lower case string"
      ],
      "metadata": {
        "id": "cAZ5LcyMgXmV"
      }
    },
    {
      "cell_type": "code",
      "source": [
        "input_data_df['text_processed'] = input_data_df['text'].str.lower()\n",
        "\n",
        "input_data_df.head()"
      ],
      "metadata": {
        "id": "BB8jsoD0IRlr"
      },
      "execution_count": null,
      "outputs": []
    },
    {
      "cell_type": "markdown",
      "source": [
        "## 2. tokenize sentenses"
      ],
      "metadata": {
        "id": "z4rbIpfrhYDS"
      }
    },
    {
      "cell_type": "code",
      "source": [
        "import nltk\n",
        "nltk.download('all')"
      ],
      "metadata": {
        "id": "d7HlNSriF-tq"
      },
      "execution_count": null,
      "outputs": []
    },
    {
      "cell_type": "code",
      "source": [
        "from nltk.tokenize import word_tokenize\n",
        "\n",
        "# Tokenize the 'text' column and put the result in a new column 'tokens'\n",
        "input_data_df['text_processed'] = input_data_df['text_processed'].apply(word_tokenize)\n",
        "\n",
        "input_data_df.head()"
      ],
      "metadata": {
        "id": "lFsttLD1GSzK"
      },
      "execution_count": null,
      "outputs": []
    },
    {
      "cell_type": "markdown",
      "source": [
        "## punctuation removal"
      ],
      "metadata": {
        "id": "AZAbNSOthSCB"
      }
    },
    {
      "cell_type": "code",
      "source": [
        "\n",
        "input_data_df['text_processed_2'] = input_data_df['text_processed'].copy()\n",
        "\n",
        "input_data_df.head()\n",
        "\n"
      ],
      "metadata": {
        "id": "lgRbG_EGDWAH"
      },
      "execution_count": null,
      "outputs": []
    },
    {
      "cell_type": "code",
      "source": [
        "input_data_df.loc[:, 'text_processed_3'] = input_data_df.loc[:, 'text_processed_2']\n",
        "\n",
        "input_data_df.head()"
      ],
      "metadata": {
        "id": "bW9U0R5GlFRR"
      },
      "execution_count": null,
      "outputs": []
    },
    {
      "cell_type": "code",
      "source": [
        "import string\n",
        "\n",
        "# input_data_df['text_processed_2'] = input_data_df['text_processed'].copy()\n",
        "\n",
        "def remove_punctuation(tokens):\n",
        "\n",
        "  tokens2 = []\n",
        "  for word in tokens:\n",
        "    #if (word in string.punctuation):\n",
        "      #tokens.remove(word)\n",
        "    if(word not in string.punctuation):\n",
        "      tokens2.append(word)\n",
        "\n",
        "  #return tokens\n",
        "  return tokens2\n",
        "  # return \"\"\n",
        "\n",
        "# input_data_df['text_processed_2'] = input_data_df['text_processed']\n",
        "input_data_df['text_processed_3'] = input_data_df['text_processed_3'].apply(remove_punctuation)\n",
        "\n",
        "input_data_df.head(5)\n",
        "\n",
        "# input_data_df['text', 'text_processed'].head()"
      ],
      "metadata": {
        "id": "AZjskqAfJFrA"
      },
      "execution_count": null,
      "outputs": []
    },
    {
      "cell_type": "markdown",
      "source": [
        "## stop words removal"
      ],
      "metadata": {
        "id": "hD4WKtjmuL1f"
      }
    },
    {
      "cell_type": "code",
      "source": [
        "from nltk.probability import FreqDist\n",
        "from nltk.corpus import stopwords\n",
        "from nltk.tokenize import word_tokenize"
      ],
      "metadata": {
        "id": "EFr3RpDpufj-"
      },
      "execution_count": null,
      "outputs": []
    },
    {
      "cell_type": "code",
      "source": [
        "\n",
        "def remove_stop_words(tokens):\n",
        "\n",
        "  tokens2 = []\n",
        "  for word in tokens:\n",
        "    #if (word in stopwords.words('english')):\n",
        "       #tokens.remove(word)\n",
        "    if ( word not in stopwords.words('english')):\n",
        "         tokens2.append(word)\n",
        "\n",
        "  #return tokens\n",
        "  return tokens2\n",
        "\n",
        "input_data_df['text_processed_3'] = input_data_df['text_processed_3'].apply(remove_stop_words)\n",
        "\n",
        "input_data_df.head()"
      ],
      "metadata": {
        "id": "sDxqwB_quicS"
      },
      "execution_count": null,
      "outputs": []
    },
    {
      "cell_type": "markdown",
      "source": [
        "## 5. stemming"
      ],
      "metadata": {
        "id": "80M2B1Kjxu-D"
      }
    },
    {
      "cell_type": "code",
      "source": [
        "from nltk.stem import PorterStemmer\n",
        "from nltk.stem.snowball import SnowballStemmer"
      ],
      "metadata": {
        "id": "6SqPmHx6x05n"
      },
      "execution_count": null,
      "outputs": []
    },
    {
      "cell_type": "code",
      "source": [
        "porter_stemmer = PorterStemmer()\n",
        "snowball_stemmer = SnowballStemmer(\"english\") # use this algorithm as it is new version of porter\n",
        "\n",
        "def stemwords_in_sentence(tokens):\n",
        "  stemmed_words = []\n",
        "  for word in tokens:\n",
        "      stemmed_word = snowball_stemmer.stem(word)\n",
        "      stemmed_words.append(stemmed_word)\n",
        "\n",
        "\n",
        "  return stemmed_words\n",
        "\n",
        "input_data_df['text_processed_3'] = input_data_df['text_processed_3'].apply(stemwords_in_sentence)\n",
        "\n",
        "input_data_df.head()"
      ],
      "metadata": {
        "id": "JB5TqOeozOHi"
      },
      "execution_count": null,
      "outputs": []
    },
    {
      "cell_type": "markdown",
      "source": [
        "## 6. lemming"
      ],
      "metadata": {
        "id": "83Ik5U-1-e1K"
      }
    },
    {
      "cell_type": "code",
      "source": [
        "from nltk.stem import WordNetLemmatizer"
      ],
      "metadata": {
        "id": "expVZgIU-ko9"
      },
      "execution_count": null,
      "outputs": []
    },
    {
      "cell_type": "code",
      "source": [
        "lemmatizer = WordNetLemmatizer()\n",
        "\n",
        "def lemmatize_in_sentence(tokens):\n",
        "  lemmatized_words = []\n",
        "  for word in tokens:\n",
        "      lemmatized_word =   lemmatizer.lemmatize(word)\n",
        "      lemmatized_words.append(lemmatized_word)\n",
        "\n",
        "\n",
        "  return lemmatized_words\n",
        "\n",
        "input_data_df['text_processed_3'] = input_data_df['text_processed_3'].apply(lemmatize_in_sentence)\n",
        "\n",
        "input_data_df.head()\n"
      ],
      "metadata": {
        "id": "7HVCYeMO-oDN"
      },
      "execution_count": null,
      "outputs": []
    },
    {
      "cell_type": "markdown",
      "source": [
        "## 7. Join tokens into string"
      ],
      "metadata": {
        "id": "7bMDT1HzWtQ0"
      }
    },
    {
      "cell_type": "code",
      "source": [
        "# input_data_df['text_processed_3'] ="
      ],
      "metadata": {
        "id": "MQTND5yRXpU-"
      },
      "execution_count": null,
      "outputs": []
    },
    {
      "cell_type": "code",
      "source": [
        "text_processed_location_3 = input_data_df.columns.get_loc('text_processed_3')\n",
        "\n",
        "# Create a new column 'Country'\n",
        "input_data_df['text_processed_4'] = \"\"\n",
        "\n",
        "# Insert the 'Country' column after the 'Name' column\n",
        "input_data_df.insert(text_processed_location_3 + 1, 'text_processed_4', input_data_df.pop('text_processed_4'))\n",
        "\n"
      ],
      "metadata": {
        "id": "z1Hq-WVJZObq"
      },
      "execution_count": null,
      "outputs": []
    },
    {
      "cell_type": "code",
      "source": [
        "input_data_df['text_processed_4'] = input_data_df['text_processed_3'].apply(lambda token: ' '.join(token))"
      ],
      "metadata": {
        "id": "5jLgZZ1XAdXI"
      },
      "execution_count": null,
      "outputs": []
    },
    {
      "cell_type": "code",
      "source": [
        "input_data_df.head()"
      ],
      "metadata": {
        "id": "xx28FDUpYfSh"
      },
      "execution_count": null,
      "outputs": []
    },
    {
      "cell_type": "markdown",
      "source": [
        "## Change column names"
      ],
      "metadata": {
        "id": "Tvc1t_iNZjXG"
      }
    },
    {
      "cell_type": "markdown",
      "source": [
        "## fill mean average values in rows and columns"
      ],
      "metadata": {
        "id": "dlI7AVmNOUJi"
      }
    },
    {
      "cell_type": "markdown",
      "source": [
        "## Process combined data from control group and test group"
      ],
      "metadata": {
        "id": "iVyBC2XdQiuR"
      }
    },
    {
      "cell_type": "markdown",
      "source": [
        "# Data Calculations"
      ],
      "metadata": {
        "id": "UcZlGRiCMT1P"
      }
    },
    {
      "cell_type": "markdown",
      "source": [
        "## Find sentiment of tweets and posts"
      ],
      "metadata": {
        "id": "rUjHz0QUTLqz"
      }
    },
    {
      "cell_type": "markdown",
      "source": [
        "## VADER (Valence Aware Dictionary and sEntiment Reasoner)"
      ],
      "metadata": {
        "id": "kfVKWCcVT5mN"
      }
    },
    {
      "cell_type": "markdown",
      "source": [
        "negative, neutral, and positive scores\n",
        "\n",
        "compound score can range from -1 to 1."
      ],
      "metadata": {
        "id": "GRwSSjKaaKXC"
      }
    },
    {
      "cell_type": "code",
      "source": [
        "from nltk.sentiment import SentimentIntensityAnalyzer"
      ],
      "metadata": {
        "id": "daLN9xeyTKpY"
      },
      "execution_count": null,
      "outputs": []
    },
    {
      "cell_type": "code",
      "source": [
        "sia = SentimentIntensityAnalyzer()"
      ],
      "metadata": {
        "id": "71qirqBaV1EU"
      },
      "execution_count": null,
      "outputs": []
    },
    {
      "cell_type": "code",
      "source": [
        "sia.polarity_scores(\"Wow, NLTK is really powerful!\")"
      ],
      "metadata": {
        "id": "9gqJynpHUNky"
      },
      "execution_count": null,
      "outputs": []
    },
    {
      "cell_type": "code",
      "source": [
        "sia.polarity_scores(\"I had a bad experience at the geocery store!\")"
      ],
      "metadata": {
        "id": "l--_EqsNaIdn"
      },
      "execution_count": null,
      "outputs": []
    },
    {
      "cell_type": "code",
      "source": [
        "sia.polarity_scores(\"I am going to office\")"
      ],
      "metadata": {
        "id": "iOrh718Ucbd7"
      },
      "execution_count": null,
      "outputs": []
    },
    {
      "cell_type": "code",
      "source": [
        "# create get_sentiment function\n",
        "\n",
        "def get_sentiment(text):\n",
        "\n",
        "    scores = sia.polarity_scores(text)\n",
        "\n",
        "    if scores['compound'] > 0 :\n",
        "        new_sentiment = 1\n",
        "    if scores['compound'] == 0 :\n",
        "        new_sentiment = 0\n",
        "    if scores['compound'] < 0 :\n",
        "        new_sentiment = -1\n",
        "\n",
        "    return new_sentiment\n",
        "\n",
        "\n",
        "# apply get_sentiment function\n",
        "\n",
        "input_data_df['calculated_sentiment'] = input_data_df['text_processed_4'].apply(get_sentiment)\n",
        "\n",
        "input_data_df.head()"
      ],
      "metadata": {
        "id": "Fs7POSe-aaR7"
      },
      "execution_count": null,
      "outputs": []
    },
    {
      "cell_type": "code",
      "source": [
        "# Group by the 'Name' column and count the number of rows in each group\n",
        "result =  input_data_df.groupby('calculated_sentiment').size()\n",
        "\n",
        "print(result)"
      ],
      "metadata": {
        "id": "EsYPlXBohCT7"
      },
      "execution_count": null,
      "outputs": []
    },
    {
      "cell_type": "code",
      "source": [
        "sentiment_location = input_data_df.columns.get_loc('sentiment')\n",
        "\n",
        "# Create a new column 'Country'\n",
        "input_data_df['sentiment_to_number'] = 9999999\n",
        "\n",
        "# Insert the 'Country' column after the 'Name' column\n",
        "input_data_df.insert(sentiment_location + 1, 'sentiment_to_number', input_data_df.pop('sentiment_to_number'))\n",
        "\n",
        "input_data_df.head()"
      ],
      "metadata": {
        "id": "BiyR_mFpi40t"
      },
      "execution_count": null,
      "outputs": []
    },
    {
      "cell_type": "code",
      "source": [
        "def convert_sentiment_to_number(sentiment):\n",
        "\n",
        "  sentiment_number = 66666666\n",
        "\n",
        "  if(sentiment == 'positive'):\n",
        "    sentiment_number = 1\n",
        "  if(sentiment == 'neutral'):\n",
        "    sentiment_number = 0\n",
        "  if(sentiment == 'negative'):\n",
        "     sentiment_number = -1\n",
        "\n",
        "  return sentiment_number\n",
        "  # return \"\"\n",
        "\n",
        "# input_data_df['text_processed_2'] = input_data_df['text_processed']\n",
        "input_data_df['sentiment_to_number'] = input_data_df['sentiment'].apply(convert_sentiment_to_number)\n",
        "\n",
        "input_data_df.head(5)"
      ],
      "metadata": {
        "id": "6d1mY-5ojhPu"
      },
      "execution_count": null,
      "outputs": []
    },
    {
      "cell_type": "markdown",
      "source": [
        "## Confusion marrix"
      ],
      "metadata": {
        "id": "8WS-2ZEvZj1u"
      }
    },
    {
      "cell_type": "code",
      "source": [
        "from sklearn.metrics import confusion_matrix"
      ],
      "metadata": {
        "id": "40pqd5-M4xgd"
      },
      "execution_count": null,
      "outputs": []
    },
    {
      "cell_type": "code",
      "source": [],
      "metadata": {
        "id": "KMuQ-fgyBSF2"
      },
      "execution_count": null,
      "outputs": []
    },
    {
      "cell_type": "code",
      "source": [
        "cf_matrix = confusion_matrix(input_data_df['sentiment_to_number'],\n",
        "                             input_data_df['calculated_sentiment'])\n",
        "print(cf_matrix)"
      ],
      "metadata": {
        "id": "izcyNsS35J-7"
      },
      "execution_count": null,
      "outputs": []
    },
    {
      "cell_type": "code",
      "source": [
        "from sklearn.metrics import classification_report\n",
        "\n",
        "print(classification_report(input_data_df['sentiment_to_number'], input_data_df['calculated_sentiment']))"
      ],
      "metadata": {
        "id": "9Hl5MmUx_WAN"
      },
      "execution_count": null,
      "outputs": []
    },
    {
      "cell_type": "markdown",
      "source": [],
      "metadata": {
        "id": "s3G5KLkMBP5C"
      }
    },
    {
      "cell_type": "code",
      "source": [
        "import seaborn as sns\n",
        "sns.heatmap(cf_matrix, annot=True)"
      ],
      "metadata": {
        "id": "16WCa1nH-SrC"
      },
      "execution_count": null,
      "outputs": []
    },
    {
      "cell_type": "code",
      "source": [
        "sns.heatmap(cf_matrix/np.sum(cf_matrix), annot=True,\n",
        "            fmt='.2%', cmap='Blues')"
      ],
      "metadata": {
        "id": "DEcl4CUZ-Xqh"
      },
      "execution_count": null,
      "outputs": []
    },
    {
      "cell_type": "code",
      "source": [
        "group_names = ['True Neg','False Pos','False Neg','True Pos']\n",
        "group_counts = [“{0:0.0f}”.format(value) for value in\n",
        "                cf_matrix.flatten()]\n",
        "group_percentages = [“{0:.2%}”.format(value) for value in\n",
        "                     cf_matrix.flatten()/np.sum(cf_matrix)]\n",
        "labels = [f”{v1}\\n{v2}\\n{v3}” for v1, v2, v3 in\n",
        "          zip(group_names,group_counts,group_percentages)]\n",
        "labels = np.asarray(labels).reshape(2,2)\n",
        "sns.heatmap(cf_matrix, annot=labels, fmt='', cmap='Blues')"
      ],
      "metadata": {
        "id": "SPJMEtRJ-6jj"
      },
      "execution_count": null,
      "outputs": []
    },
    {
      "cell_type": "markdown",
      "source": [
        "Conversion Rate\n",
        "\n",
        "Conversion Rate = (Number of Conversions / Number of Visitors) x 100"
      ],
      "metadata": {
        "id": "PyRat1vNZkWO"
      }
    },
    {
      "cell_type": "markdown",
      "source": [
        "add new columns\n",
        "normalized = value between 0 and 1\n",
        "percent = value between 0 and 100"
      ],
      "metadata": {
        "id": "TwTvrOgmdVlF"
      }
    },
    {
      "cell_type": "code",
      "source": [
        "combined_data_df['CTR_Normalized'] = 0\n",
        "combined_data_df['CTR_Percent'] = 0\n",
        "combined_data_df['CR_Normalized'] = 0\n",
        "combined_data_df['CR_Percent'] = 0\n",
        "\n",
        "#print\n",
        "combined_data_df.head()"
      ],
      "metadata": {
        "id": "5tnj2RQpdZNP"
      },
      "execution_count": null,
      "outputs": []
    },
    {
      "cell_type": "code",
      "source": [
        "combined_data_df['CTR_Normalized'] = (combined_data_df['Clicks'] /\n",
        "                      combined_data_df['Impressions'])\n",
        "\n",
        "combined_data_df['CTR_Percent'] = (combined_data_df['Clicks'] /\n",
        "                      combined_data_df['Impressions']) * 100\n",
        "\n",
        "# print\n",
        "combined_data_df.head()"
      ],
      "metadata": {
        "id": "FaiaLuaGfKdp"
      },
      "execution_count": null,
      "outputs": []
    },
    {
      "cell_type": "code",
      "source": [
        "combined_data_df['CR_Normalized'] = (combined_data_df['Purchases'] /\n",
        "                      combined_data_df['Clicks'])\n",
        "\n",
        "combined_data_df['CR_Percent'] = (combined_data_df['Purchases'] /\n",
        "                      combined_data_df['Clicks']) * 100\n",
        "\n",
        "\n",
        "#print\n",
        "combined_data_df.head()"
      ],
      "metadata": {
        "id": "vFMAAvgvf6jy"
      },
      "execution_count": null,
      "outputs": []
    },
    {
      "cell_type": "code",
      "source": [
        "#CTR\n",
        "\n",
        "temp_df1 = combined_data_df.groupby('Campaign Name')['CTR_Normalized'].mean()\n"
      ],
      "metadata": {
        "id": "MfPy_ezyztOS"
      },
      "execution_count": null,
      "outputs": []
    },
    {
      "cell_type": "code",
      "source": [
        "temp_df2 = combined_data_df.groupby('Campaign Name')['CR_Normalized'].mean()"
      ],
      "metadata": {
        "id": "r9SIDO1X0BsH"
      },
      "execution_count": null,
      "outputs": []
    },
    {
      "cell_type": "code",
      "source": [
        "temp_df3 = combined_data_df.groupby('Campaign Name')['CTR_Percent'].mean()"
      ],
      "metadata": {
        "id": "59hifgR91eou"
      },
      "execution_count": null,
      "outputs": []
    },
    {
      "cell_type": "code",
      "source": [
        "temp_df4 = combined_data_df.groupby('Campaign Name')['CR_Percent'].mean()"
      ],
      "metadata": {
        "id": "dGOKDMdA1oYB"
      },
      "execution_count": null,
      "outputs": []
    },
    {
      "cell_type": "code",
      "source": [
        "temp_df5 = pd.merge(temp_df1, temp_df2, on='Campaign Name')\n",
        "\n",
        "#print\n",
        "temp_df5"
      ],
      "metadata": {
        "id": "D8dsC1Se1CkW"
      },
      "execution_count": null,
      "outputs": []
    },
    {
      "cell_type": "code",
      "source": [
        "temp_df6 = pd.merge(temp_df3, temp_df4, on='Campaign Name')"
      ],
      "metadata": {
        "id": "K0bSUg1V2Epg"
      },
      "execution_count": null,
      "outputs": []
    },
    {
      "cell_type": "code",
      "source": [
        "temp_df7 = pd.merge(temp_df5, temp_df6, on='Campaign Name')\n",
        "\n",
        "# print\n",
        "temp_df7"
      ],
      "metadata": {
        "id": "ftelQiYj2LVB"
      },
      "execution_count": null,
      "outputs": []
    },
    {
      "cell_type": "code",
      "source": [
        "calculations_df = temp_df7\n",
        "\n",
        "# print\n",
        "temp_df7"
      ],
      "metadata": {
        "id": "vGJ3edLt2sno"
      },
      "execution_count": null,
      "outputs": []
    },
    {
      "cell_type": "markdown",
      "source": [
        "seperator"
      ],
      "metadata": {
        "id": "gnTBZzuD3KbA"
      }
    },
    {
      "cell_type": "markdown",
      "source": [
        "seperator"
      ],
      "metadata": {
        "id": "Q3ZC4rWl3ORh"
      }
    },
    {
      "cell_type": "markdown",
      "source": [
        "# Visualization"
      ],
      "metadata": {
        "id": "bF-P0sW24ipO"
      }
    },
    {
      "cell_type": "markdown",
      "source": [
        "## CTR , Click through rate"
      ],
      "metadata": {
        "id": "dOJrb6dj5Iun"
      }
    },
    {
      "cell_type": "markdown",
      "source": [
        "### Bar chart of CTR"
      ],
      "metadata": {
        "id": "G0kluhEVZk7G"
      }
    },
    {
      "cell_type": "code",
      "source": [
        "colors = sns.color_palette(['#06C', '#F4B678'])\n",
        "\n",
        "sns.barplot(data=calculations_df, x='Campaign Name',\n",
        "                    y='CTR_Percent', hue='Campaign Name', palette = colors, dodge=False)\n",
        "plt.title('Average Metrics of CTR')\n",
        "plt.show()"
      ],
      "metadata": {
        "id": "0hxBXqqw5Y36"
      },
      "execution_count": null,
      "outputs": []
    },
    {
      "cell_type": "markdown",
      "source": [
        "### Box chart of CTR"
      ],
      "metadata": {
        "id": "iRPnlOoO4pJF"
      }
    },
    {
      "cell_type": "code",
      "source": [
        "colors = sns.color_palette(['#73C5C5', '#A30000'])\n",
        "\n",
        "sns.boxplot(x='Campaign Name', y='CTR_Normalized', data=combined_data_df,\n",
        "            hue='Campaign Name', dodge=False, palette = colors)\n",
        "plt.title('CTR Distribution by Campaign')\n",
        "plt.show()"
      ],
      "metadata": {
        "id": "VP5-npKQfYkD"
      },
      "execution_count": null,
      "outputs": []
    },
    {
      "cell_type": "markdown",
      "source": [
        "### Violin chart of CTR"
      ],
      "metadata": {
        "id": "jNGDKBBFIH9e"
      }
    },
    {
      "cell_type": "code",
      "source": [
        "colors = sns.color_palette(['#7CC674', '#F0AB00'])\n",
        "\n",
        "sns.violinplot(x='Campaign Name', y='CTR_Normalized', data=combined_data_df,\n",
        "            hue='Campaign Name', dodge=False, palette = colors)\n",
        "plt.title('CTR Distribution by Campaign')\n",
        "plt.show()"
      ],
      "metadata": {
        "id": "Jig-7QuSHtwe"
      },
      "execution_count": null,
      "outputs": []
    },
    {
      "cell_type": "markdown",
      "source": [
        "## CR, Conversion rate"
      ],
      "metadata": {
        "id": "dZ9MEuOMIkYZ"
      }
    },
    {
      "cell_type": "markdown",
      "source": [
        "### Bar chart of CR"
      ],
      "metadata": {
        "id": "cYVtJhpWIrKq"
      }
    },
    {
      "cell_type": "code",
      "source": [
        "colors = sns.color_palette(['#06C', '#F4B678'])\n",
        "\n",
        "sns.barplot(data=calculations_df, x='Campaign Name',\n",
        "                    y='CR_Percent', hue='Campaign Name', palette = colors, dodge=False)\n",
        "plt.title('Average Metrics of CR')\n",
        "plt.show()"
      ],
      "metadata": {
        "id": "MzmBLhflI_3i"
      },
      "execution_count": null,
      "outputs": []
    },
    {
      "cell_type": "markdown",
      "source": [
        "### Box chart of CR"
      ],
      "metadata": {
        "id": "9DMWP0pz4pYA"
      }
    },
    {
      "cell_type": "code",
      "source": [
        "colors = sns.color_palette(['#73C5C5', '#A30000'])\n",
        "\n",
        "sns.boxplot(x='Campaign Name', y='CR_Normalized', data=combined_data_df,\n",
        "            hue='Campaign Name', palette = colors, dodge=False)\n",
        "plt.title('CR Distribution by Campaign')\n",
        "plt.show()"
      ],
      "metadata": {
        "id": "Rz2YDMX7Jovb"
      },
      "execution_count": null,
      "outputs": []
    },
    {
      "cell_type": "markdown",
      "source": [
        "### Violin chart of CR"
      ],
      "metadata": {
        "id": "oq52ycnU4plH"
      }
    },
    {
      "cell_type": "code",
      "source": [
        "colors = sns.color_palette(['#7CC674', '#F0AB00'])\n",
        "\n",
        "sns.violinplot(x='Campaign Name', y='CR_Normalized', data=combined_data_df,\n",
        "            hue='Campaign Name', palette = colors, dodge=False)\n",
        "plt.title('CR Distribution by Campaign')\n",
        "plt.show()"
      ],
      "metadata": {
        "id": "48chBuNwJx2k"
      },
      "execution_count": null,
      "outputs": []
    },
    {
      "cell_type": "markdown",
      "source": [
        "# Analysis and Conclusions"
      ],
      "metadata": {
        "id": "TMgKSwHyKQ2Y"
      }
    },
    {
      "cell_type": "markdown",
      "source": [
        "**CTR (Click-Through Rate):**\n",
        "\n",
        "Visual Observation: The histogram for CTR shows a higher mean for the Test Campaign compared to the Control Campaign.\n",
        "The KDE line for the Test Campaign is consistently above that of the Control Campaign.\n",
        "There are more outliers on the right for the Test Campaign than for the Control Campaign.\n",
        "Conclusion: The Test Campaign has a higher CTR, indicating better engagement.\n",
        "\n",
        "\n",
        "\n",
        "**CR (Conversion Rate):**\n",
        "\n",
        "Visual Observation: The histogram for CR shows similar means for both Control and Test Campaigns, with the Test Campaign\n",
        "having a slightly lower mean. The KDE lines overlap considerably, indicating similar distributions.\n",
        "Conclusion: There is no significant difference in CR between the Control and Test Campaigns."
      ],
      "metadata": {
        "id": "sQFkw_szNsIu"
      }
    },
    {
      "cell_type": "markdown",
      "source": [
        "# The End 🛑"
      ],
      "metadata": {
        "id": "xFsznQ6U4pyF"
      }
    },
    {
      "cell_type": "markdown",
      "source": [],
      "metadata": {
        "id": "Wux5LLh9Nshb"
      }
    }
  ],
  "metadata": {
    "kernelspec": {
      "display_name": "Python 3",
      "name": "python3"
    },
    "language_info": {
      "name": "python"
    },
    "colab": {
      "provenance": [],
      "include_colab_link": true
    }
  },
  "nbformat": 4,
  "nbformat_minor": 0
}