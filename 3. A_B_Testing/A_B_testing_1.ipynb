{
  "cells": [
    {
      "cell_type": "markdown",
      "metadata": {
        "id": "view-in-github",
        "colab_type": "text"
      },
      "source": [
        "<a href=\"https://colab.research.google.com/github/anumit-web/ML-Analytics-Portfolio-2024/blob/main/3.%20A_B_Testing/A_B_testing_1.ipynb\" target=\"_parent\"><img src=\"https://colab.research.google.com/assets/colab-badge.svg\" alt=\"Open In Colab\"/></a>"
      ]
    },
    {
      "cell_type": "markdown",
      "source": [
        "# Artificial Intelligence\n",
        "# Machine Learning\n",
        "# Portfolio Project\n",
        "# #3\n",
        "# A/B Testing\n",
        "# Goal analyze the result of AB testing for marketing campaign or website feature.\n"
      ],
      "metadata": {
        "id": "LAElxz7e6xiT"
      }
    },
    {
      "cell_type": "markdown",
      "source": [
        "# EDA, Exploratory Data Analysis"
      ],
      "metadata": {
        "id": "P2GTILYG7D1r"
      }
    },
    {
      "cell_type": "markdown",
      "source": [
        "Goal analyze the resukt of AB testing for marketing campaign or website feature."
      ],
      "metadata": {
        "id": "re4F9rRwBRZy"
      }
    },
    {
      "cell_type": "code",
      "source": [
        "print('Hello A/B Testing')"
      ],
      "metadata": {
        "id": "bijVEivnAsug",
        "outputId": "9c60f9e3-223d-42cc-d8d8-6587448511b4",
        "colab": {
          "base_uri": "https://localhost:8080/"
        }
      },
      "execution_count": null,
      "outputs": [
        {
          "output_type": "stream",
          "name": "stdout",
          "text": [
            "Hello A/B Testing\n"
          ]
        }
      ]
    }
  ],
  "metadata": {
    "kernelspec": {
      "display_name": "Python 3",
      "name": "python3"
    },
    "language_info": {
      "name": "python"
    },
    "colab": {
      "provenance": [],
      "toc_visible": true,
      "include_colab_link": true
    }
  },
  "nbformat": 4,
  "nbformat_minor": 0
}