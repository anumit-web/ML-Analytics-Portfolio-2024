{
  "cells": [
    {
      "cell_type": "markdown",
      "metadata": {
        "id": "view-in-github",
        "colab_type": "text"
      },
      "source": [
        "<a href=\"https://colab.research.google.com/github/anumit-web/ML-Analytics-Portfolio-2024/blob/main/9.%20Data%20Cleaning%20and%20Preprocessing/Data_Cleaning_and_Preprocessing_3.ipynb\" target=\"_parent\"><img src=\"https://colab.research.google.com/assets/colab-badge.svg\" alt=\"Open In Colab\"/></a>"
      ]
    },
    {
      "cell_type": "markdown",
      "source": [
        "# Artificial Intelligence\n",
        "# Machine Learning\n",
        "# Portfolio Project\n",
        "# #9\n",
        "# Data Cleaning (v3)\n",
        "# Goal = Cleaning and preprocessing raw dataset. showcase of skills like data wrangling, feature engineering, data normalization\n",
        "\n",
        "\n",
        "- - - - - - - - - - - - - - - - - - - - - - - - - - - - - - - - - - - - - - - - - - - - - - - - - - - - - - - - - - - - - - - - - - - -\n"
      ],
      "metadata": {
        "id": "LAElxz7e6xiT"
      }
    },
    {
      "cell_type": "markdown",
      "source": [
        "# Branding statement"
      ],
      "metadata": {
        "id": "-AqinKkKYcIN"
      }
    },
    {
      "cell_type": "code",
      "source": [
        "# https://i.ibb.co/zZswY34/Pink-hands-network-2.png"
      ],
      "metadata": {
        "id": "et0ThJcPYiXb"
      },
      "execution_count": 630,
      "outputs": []
    },
    {
      "cell_type": "code",
      "source": [
        "from IPython.display import Image\n",
        "Image('https://i.ibb.co/zZswY34/Pink-hands-network-2.png')"
      ],
      "metadata": {
        "id": "eejritJ1YnWh"
      },
      "execution_count": null,
      "outputs": []
    },
    {
      "cell_type": "markdown",
      "source": [
        "- - - - - - - - - - - - - - - - - - - - - - - - - - - - - - - - - - - - - - - - - - - - - - - -"
      ],
      "metadata": {
        "id": "GRLJj5WkZYii"
      }
    },
    {
      "cell_type": "markdown",
      "source": [
        "# EDA, Exploratory Data Analysis"
      ],
      "metadata": {
        "id": "P2GTILYG7D1r"
      }
    },
    {
      "cell_type": "markdown",
      "source": [
        "## import libraries"
      ],
      "metadata": {
        "id": "vSS7v0tO2Nc1"
      }
    },
    {
      "cell_type": "code",
      "source": [
        "print('Hello, Data Cleaning and Preprocessing')"
      ],
      "metadata": {
        "id": "bijVEivnAsug"
      },
      "execution_count": null,
      "outputs": []
    },
    {
      "cell_type": "code",
      "source": [
        "import numpy as np\n",
        "import pandas as pd\n",
        "\n",
        "import seaborn as sns\n",
        "import matplotlib.pyplot as plt"
      ],
      "metadata": {
        "id": "vsLbE4-Z-pdJ"
      },
      "execution_count": null,
      "outputs": []
    },
    {
      "cell_type": "code",
      "source": [
        "# this library is used for one hot encoding\n",
        "from sklearn.preprocessing import OneHotEncoder"
      ],
      "metadata": {
        "id": "4d5W6vSf97lb"
      },
      "execution_count": null,
      "outputs": []
    },
    {
      "cell_type": "code",
      "source": [
        "from sklearn.preprocessing import LabelEncoder"
      ],
      "metadata": {
        "id": "SxUXFCtRDeqp"
      },
      "execution_count": null,
      "outputs": []
    },
    {
      "cell_type": "markdown",
      "source": [
        "## Input data"
      ],
      "metadata": {
        "id": "zlPRSWa00y-0"
      }
    },
    {
      "cell_type": "code",
      "source": [
        "# https://zenodo.org/records/13925131/files/netflix_titles.csv?download=1\n",
        "\n",
        "input_data_df = pd.read_csv(\"https://zenodo.org/records/13925131/files/netflix_titles.csv\"\n",
        "                            , sep = ',')"
      ],
      "metadata": {
        "id": "EnvaDPXMOqbM"
      },
      "execution_count": null,
      "outputs": []
    },
    {
      "cell_type": "code",
      "source": [
        "number_of_rows = input_data_df.shape[0]\n",
        "number_of_columns = input_data_df.shape[1]\n",
        "print(\"Numner of rows = \", number_of_rows)\n",
        "print(\"Number of columns = \", number_of_columns)"
      ],
      "metadata": {
        "id": "J5htDQ-5hTmd"
      },
      "execution_count": null,
      "outputs": []
    },
    {
      "cell_type": "code",
      "source": [
        "\n",
        "input_data_df.head()"
      ],
      "metadata": {
        "id": "o7enKsiz_UEH"
      },
      "execution_count": null,
      "outputs": []
    },
    {
      "cell_type": "code",
      "source": [
        "input_data_df.tail()"
      ],
      "metadata": {
        "id": "SGHOpPwkXjte"
      },
      "execution_count": null,
      "outputs": []
    },
    {
      "cell_type": "code",
      "source": [
        "input_data_df.info()"
      ],
      "metadata": {
        "id": "S_h0_YgEXsVu"
      },
      "execution_count": null,
      "outputs": []
    },
    {
      "cell_type": "code",
      "source": [
        "input_data_df.describe()\n"
      ],
      "metadata": {
        "id": "N5WFB738XyUR"
      },
      "execution_count": null,
      "outputs": []
    },
    {
      "cell_type": "code",
      "source": [
        "#"
      ],
      "metadata": {
        "id": "cjHTrV4Uldu2"
      },
      "execution_count": null,
      "outputs": []
    },
    {
      "cell_type": "code",
      "source": [
        "# raise SystemExit(\"Stop right there!\")"
      ],
      "metadata": {
        "id": "cwbsGFKrmbIg"
      },
      "execution_count": null,
      "outputs": []
    },
    {
      "cell_type": "markdown",
      "source": [
        "change index to date tyoe and date column"
      ],
      "metadata": {
        "id": "vUrAkzph5g5J"
      }
    },
    {
      "cell_type": "code",
      "source": [
        "# input_data_df.index = input_data_df['Date']"
      ],
      "metadata": {
        "id": "fQVOfpEf4Rrq"
      },
      "execution_count": null,
      "outputs": []
    },
    {
      "cell_type": "code",
      "source": [
        "input_data_df.head()"
      ],
      "metadata": {
        "id": "h4SeF6Qn4fQU"
      },
      "execution_count": null,
      "outputs": []
    },
    {
      "cell_type": "markdown",
      "source": [
        "do NOT drop date column because we need it for model training for linear and random forest algorithms"
      ],
      "metadata": {
        "id": "VJotgyyaxcHX"
      }
    },
    {
      "cell_type": "code",
      "source": [
        "# input_data_df = input_data_df.drop('Date', axis=1)\n",
        "# where 1 is the axis number (0 for rows and 1 for columns.)"
      ],
      "metadata": {
        "id": "ddufAvqP6FoN"
      },
      "execution_count": null,
      "outputs": []
    },
    {
      "cell_type": "code",
      "source": [
        "input_data_df.head()"
      ],
      "metadata": {
        "id": "-oPPZotd6QvU"
      },
      "execution_count": null,
      "outputs": []
    },
    {
      "cell_type": "markdown",
      "source": [
        "## find list of all columns which have null values\n",
        "\n",
        "using SKIMPY"
      ],
      "metadata": {
        "id": "rRqoGFenVUsY"
      }
    },
    {
      "cell_type": "code",
      "source": [
        "# Get the count of null values in each column\n",
        "null_counts = input_data_df.isnull().sum()\n",
        "print('Priniting count of null values = ')\n",
        "print(null_counts)"
      ],
      "metadata": {
        "id": "RIRCXmF7Vgyk"
      },
      "execution_count": null,
      "outputs": []
    },
    {
      "cell_type": "code",
      "source": [
        "try:\n",
        "  import skimpy\n",
        "except:\n",
        "  !pip install skimpy\n",
        "  import skimpy"
      ],
      "metadata": {
        "id": "XEDg-u4IVmjj"
      },
      "execution_count": null,
      "outputs": []
    },
    {
      "cell_type": "code",
      "source": [
        "from skimpy import skim"
      ],
      "metadata": {
        "id": "5rB0-euSV9RH"
      },
      "execution_count": null,
      "outputs": []
    },
    {
      "cell_type": "code",
      "source": [
        "skim(input_data_df)"
      ],
      "metadata": {
        "id": "Yyg9DoWcV-nu"
      },
      "execution_count": null,
      "outputs": []
    },
    {
      "cell_type": "markdown",
      "source": [
        "## find unique values by column names"
      ],
      "metadata": {
        "id": "GYrVLMWUWJ_P"
      }
    },
    {
      "cell_type": "code",
      "source": [
        "# Find the number of unique values in both 'Name' and 'Age' columns\n",
        "unique_values = input_data_df.nunique()\n",
        "print(unique_values)"
      ],
      "metadata": {
        "id": "IAcGcQ63WQRF"
      },
      "execution_count": null,
      "outputs": []
    },
    {
      "cell_type": "code",
      "source": [
        "# ! pip install summarytools\n",
        "\n",
        "try:\n",
        "  import summarytools\n",
        "except:\n",
        "  !pip install summarytools\n",
        "  import summarytools"
      ],
      "metadata": {
        "id": "xnFPO7v4WUFn"
      },
      "execution_count": null,
      "outputs": []
    },
    {
      "cell_type": "code",
      "source": [
        "from summarytools import dfSummary"
      ],
      "metadata": {
        "id": "4I7oPS1LWhyd"
      },
      "execution_count": null,
      "outputs": []
    },
    {
      "cell_type": "code",
      "source": [
        "dfSummary(input_data_df)"
      ],
      "metadata": {
        "id": "_sMe6qQlWuRo"
      },
      "execution_count": null,
      "outputs": []
    },
    {
      "cell_type": "markdown",
      "source": [
        "# Data Cleanimg and Preprocessing 🧹🧼🧽"
      ],
      "metadata": {
        "id": "LgUkNXDqcgLw"
      }
    },
    {
      "cell_type": "markdown",
      "source": [
        "## 101. Rename columns to better understand the data"
      ],
      "metadata": {
        "id": "RLSQY7sHxR6I"
      }
    },
    {
      "cell_type": "code",
      "source": [
        "input_data_df.columns"
      ],
      "metadata": {
        "id": "fKbt3aQqxSsE"
      },
      "execution_count": null,
      "outputs": []
    },
    {
      "cell_type": "code",
      "source": [
        "input_data_df.columns = ['Show id', 'Media Type', 'Title',\n",
        "                         'Director Name', 'Cast (Actors)', 'Country Name',\n",
        "                         'Date Added', 'Release Year',\n",
        "                         'Rating', 'Duration',\n",
        "                         'Listed in Categories', 'Description']\n",
        "\n",
        "\n",
        "\n",
        "input_data_df.head()"
      ],
      "metadata": {
        "id": "StQj9lYoxaPF"
      },
      "execution_count": null,
      "outputs": []
    },
    {
      "cell_type": "markdown",
      "source": [
        "## 101. Find duplicate rows"
      ],
      "metadata": {
        "id": "pKVC_ieNmrN8"
      }
    },
    {
      "cell_type": "code",
      "source": [
        "# Find duplicate rows\n",
        "duplicate_rows = input_data_df[input_data_df.duplicated()]\n",
        "\n",
        "# Print duplicate rows\n",
        "print(duplicate_rows)"
      ],
      "metadata": {
        "id": "0LeZhKzMm4g7"
      },
      "execution_count": null,
      "outputs": []
    },
    {
      "cell_type": "code",
      "source": [
        "\n",
        "# Check if duplicates are found\n",
        "if len(duplicate_rows) == 0:\n",
        "    print(\"No duplicates found\")\n",
        "else:\n",
        "    print(\"Duplicates found:\")"
      ],
      "metadata": {
        "id": "NELVKaGmm9MD"
      },
      "execution_count": null,
      "outputs": []
    },
    {
      "cell_type": "markdown",
      "source": [
        "## 101. Drop rows of data not needed\n",
        "1. India and Paksitan\n",
        "2. date added is null\n"
      ],
      "metadata": {
        "id": "63FJtivR_L5F"
      }
    },
    {
      "cell_type": "code",
      "source": [
        "# delete rows where A == 'foo'\n",
        "# nput_data_df = input_data_df[input_data_df['A'] != 'foo']\n",
        "\n",
        "# Delete rows using drop()\n",
        "input_data_df = input_data_df.drop(input_data_df[input_data_df['Country Name'] == 'India'].index)\n",
        "\n",
        "input_data_df = input_data_df.drop(input_data_df[input_data_df['Country Name'] == 'Pakistan'].index)\n",
        "\n",
        "\n",
        "input_data_df.head()\n"
      ],
      "metadata": {
        "id": "ORkVPaaE_Mys"
      },
      "execution_count": null,
      "outputs": []
    },
    {
      "cell_type": "code",
      "source": [
        "input_data_df.dropna(subset=['Date Added'], inplace=True)\n",
        "\n",
        "input_data_df.head()"
      ],
      "metadata": {
        "id": "2_yrTCv5Ng6u"
      },
      "execution_count": null,
      "outputs": []
    },
    {
      "cell_type": "markdown",
      "source": [
        "## 102. set value where null\n",
        "## director name and other columns"
      ],
      "metadata": {
        "id": "lUWxWyzavyXB"
      }
    },
    {
      "cell_type": "code",
      "source": [
        "\n",
        "# Set values where null\n",
        "input_data_df.fillna('Not Given', inplace=True)\n",
        "\n",
        "input_data_df.head()"
      ],
      "metadata": {
        "id": "26RGfvnnvzBD"
      },
      "execution_count": null,
      "outputs": []
    },
    {
      "cell_type": "markdown",
      "source": [
        "## 103. Populate the country using the director column"
      ],
      "metadata": {
        "id": "a2xlERax2bUJ"
      }
    },
    {
      "cell_type": "code",
      "source": [
        "# loc - rows and columns\n",
        "director_and_country_names_df = input_data_df.loc[:, ['Director Name', 'Country Name']]\n",
        "\n",
        "director_and_country_names_df.head()\n",
        "\n",
        "#director_and_country_names_df.tail()\n"
      ],
      "metadata": {
        "id": "kY02jKkA2d6e"
      },
      "execution_count": null,
      "outputs": []
    },
    {
      "cell_type": "code",
      "source": [
        "director_and_country_names_df = director_and_country_names_df.sort_values('Director Name')\n",
        "\n",
        "director_and_country_names_df.head()"
      ],
      "metadata": {
        "id": "HG6UNiCtCnJv"
      },
      "execution_count": null,
      "outputs": []
    },
    {
      "cell_type": "markdown",
      "source": [
        "## 104. Add a column"
      ],
      "metadata": {
        "id": "84NeI-VNDvrn"
      }
    },
    {
      "cell_type": "code",
      "source": [
        "# add an integer column\n",
        "\n",
        "input_data_df['Duration (in numbers)'] = 0\n",
        "\n",
        "input_data_df.head()"
      ],
      "metadata": {
        "id": "rP1QyLW5DoMU"
      },
      "execution_count": null,
      "outputs": []
    },
    {
      "cell_type": "markdown",
      "source": [
        "## 105. Convert columns to integer or float values"
      ],
      "metadata": {
        "id": "E7XZGtwwEPKe"
      }
    },
    {
      "cell_type": "code",
      "source": [
        "# Split numbers from strings using str.replace()\n",
        "\n",
        "input_data_df['Duration (in numbers)'] = input_data_df['Duration'].str.replace('[a-zA-Z]', '', regex=True)\n",
        "\n",
        "input_data_df.head()"
      ],
      "metadata": {
        "id": "1iVpwPUfER5S"
      },
      "execution_count": null,
      "outputs": []
    },
    {
      "cell_type": "code",
      "source": [
        "\n",
        "# Convert the 'ID' column to integer 64 type\n",
        "# input_data_df['Duration (in numbers)'] = input_data_df['Duration (in numbers)'].astype('int64')\n",
        "\n",
        "input_data_df[\"Duration (in numbers)\"] = pd.to_numeric(input_data_df[\"Duration (in numbers)\"], errors=\"coerce\")\n",
        "\n",
        "\n",
        "\n",
        "input_data_df.dtypes"
      ],
      "metadata": {
        "id": "1i3Va4QFEZxi"
      },
      "execution_count": null,
      "outputs": []
    },
    {
      "cell_type": "code",
      "source": [
        "input_data_df.head()"
      ],
      "metadata": {
        "id": "L5G6wFAdEeNo"
      },
      "execution_count": null,
      "outputs": []
    },
    {
      "cell_type": "code",
      "source": [
        "input_data_df['Duration (in numbers)'].isna().sum()"
      ],
      "metadata": {
        "id": "3yYti99hJDlh"
      },
      "execution_count": null,
      "outputs": []
    },
    {
      "cell_type": "code",
      "source": [
        "# Fill missing values in the \"Salary\" column with the median salary\n",
        "input_data_df['Duration (in numbers)'] = input_data_df['Duration (in numbers)'].fillna(0)\n",
        "\n",
        "input_data_df.head()"
      ],
      "metadata": {
        "id": "l6zx_mMPJf0Q"
      },
      "execution_count": null,
      "outputs": []
    },
    {
      "cell_type": "code",
      "source": [
        "# Convert the 'ID' column to integer 64 type\n",
        "input_data_df['Duration (in numbers)'] = input_data_df['Duration (in numbers)'].astype('int64')\n",
        "\n",
        "input_data_df.head()\n"
      ],
      "metadata": {
        "id": "RQ64JDhFLwXh"
      },
      "execution_count": null,
      "outputs": []
    },
    {
      "cell_type": "markdown",
      "source": [
        "## 107. Remove leading/trailing whitespace (using lambda functions)"
      ],
      "metadata": {
        "id": "DCNE9TjcaiP0"
      }
    },
    {
      "cell_type": "code",
      "source": [
        "\n",
        "# Remove white space from only string columns\n",
        "\n",
        "input_data_df= input_data_df.apply(lambda x: x.str.strip() if x.dtype == 'object' else x)\n",
        "\n",
        "# print head and tail of dataframe\n",
        "input_data_df"
      ],
      "metadata": {
        "id": "egd1Ke_2aqR0"
      },
      "execution_count": null,
      "outputs": []
    },
    {
      "cell_type": "markdown",
      "source": [
        "## 107. Convert columns to date types"
      ],
      "metadata": {
        "id": "F05s_D8fMN6s"
      }
    },
    {
      "cell_type": "code",
      "source": [
        "\n",
        "# Convert the 'Date' column to date type\n",
        "input_data_df['Date Added'] = pd.to_datetime(input_data_df['Date Added'], format='%B %d, %Y')\n",
        "\n",
        "input_data_df.dtypes"
      ],
      "metadata": {
        "id": "VxSCiW0CMS1A"
      },
      "execution_count": null,
      "outputs": []
    },
    {
      "cell_type": "markdown",
      "source": [
        "## 115. Clone column"
      ],
      "metadata": {
        "id": "XOmPwJv9cL7F"
      }
    },
    {
      "cell_type": "code",
      "source": [
        "\n",
        "# Clone the 'Age' column to a new column 'Age_Clone' using the `copy()` function\n",
        "input_data_df['Show id (new)'] = input_data_df['Show id'].copy()\n",
        "\n",
        "input_data_df.head()"
      ],
      "metadata": {
        "id": "LT2viegPcTvH"
      },
      "execution_count": null,
      "outputs": []
    },
    {
      "cell_type": "markdown",
      "source": [
        "## 120. Create new index using row identifier"
      ],
      "metadata": {
        "id": "lO1nv9h1ceHw"
      }
    },
    {
      "cell_type": "code",
      "source": [
        "\n",
        "# Set the 'Name' column as the index\n",
        "\n",
        "input_data_df.set_index('Show id', inplace=True)\n",
        "\n",
        "input_data_df.head()"
      ],
      "metadata": {
        "id": "rKsQZd6wckVU"
      },
      "execution_count": null,
      "outputs": []
    },
    {
      "cell_type": "markdown",
      "source": [
        "## 125. Reset index if needed\n"
      ],
      "metadata": {
        "id": "ur94vzVZcutX"
      }
    },
    {
      "cell_type": "code",
      "source": [
        "\n",
        "# Do NOT move the index to a column\n",
        "input_data_df.reset_index(drop=True, inplace=True)\n",
        "\n",
        "input_data_df.head()"
      ],
      "metadata": {
        "id": "bEuHw_fnc8Rp"
      },
      "execution_count": null,
      "outputs": []
    },
    {
      "cell_type": "markdown",
      "source": [
        "## 130. Drop columns not needed"
      ],
      "metadata": {
        "id": "S4mks4Vdc_3w"
      }
    },
    {
      "cell_type": "code",
      "source": [
        "# Drop the 'Age' column\n",
        "# axis 1 = column, 0 = rows\n",
        "input_data_df = input_data_df.drop('Show id (new)', axis=1)\n",
        "\n",
        "input_data_df.head()"
      ],
      "metadata": {
        "id": "qxQKLiR4dKGp"
      },
      "execution_count": null,
      "outputs": []
    },
    {
      "cell_type": "markdown",
      "source": [
        "## 135. Convert minutes to hours and minutes"
      ],
      "metadata": {
        "id": "o0WS8N7zEMjH"
      }
    },
    {
      "cell_type": "code",
      "source": [
        "# create new column to store time values\n",
        "\n",
        "input_data_df['Time'] = ''\n",
        "\n",
        "input_data_df.head()"
      ],
      "metadata": {
        "id": "JqZwdT0yEaIi"
      },
      "execution_count": null,
      "outputs": []
    },
    {
      "cell_type": "code",
      "source": [
        "\n",
        "\n",
        "# Print unique values of the 'Name' column\n",
        "print(input_data_df['Media Type'].unique())"
      ],
      "metadata": {
        "id": "3PuOBIDKEfSB"
      },
      "execution_count": null,
      "outputs": []
    },
    {
      "cell_type": "code",
      "source": [
        "# Convert the Age column to string\n",
        "input_data_df['Media Type'] = input_data_df['Media Type'].astype(str)\n",
        "\n",
        "# Define a simple function to convert age to string\n",
        "def minutes_to_hours_and_minutes_2(row_input):\n",
        "    return_value = ''\n",
        "    if(row_input['Media Type'] == 'Movie'):\n",
        "        hours_output = int(row_input['Duration (in numbers)']) // 60\n",
        "        minutes_output = int(row_input['Duration (in numbers)']) % 60\n",
        "        return_value = '' + str(hours_output) + ' hours ' + str(minutes_output) + ' minutes'\n",
        "    return str(return_value)\n",
        "\n",
        "\n",
        "input_data_df['Time'] = input_data_df.apply(minutes_to_hours_and_minutes_2, axis=1)\n",
        "\n",
        "input_data_df.head()"
      ],
      "metadata": {
        "id": "-IYjiSo9EkqW"
      },
      "execution_count": null,
      "outputs": []
    },
    {
      "cell_type": "markdown",
      "source": [
        "## 140. One hot encoding"
      ],
      "metadata": {
        "id": "_HwXpcEBlF1T"
      }
    },
    {
      "cell_type": "markdown",
      "source": [
        "## Use label encoder instead of one hot encoder or ordinal encoder"
      ],
      "metadata": {
        "id": "fzYnXyCLlOyM"
      }
    },
    {
      "cell_type": "code",
      "source": [
        "from sklearn.preprocessing import LabelEncoder"
      ],
      "metadata": {
        "id": "lpHGnOBNlBXm"
      },
      "execution_count": null,
      "outputs": []
    },
    {
      "cell_type": "code",
      "source": [
        "label_encoder = LabelEncoder()\n",
        "input_data_df['Media Type Encoded'] = label_encoder.fit_transform(input_data_df['Media Type'])\n",
        "\n",
        "input_data_df.head()"
      ],
      "metadata": {
        "id": "9unzJVYBlZKH"
      },
      "execution_count": null,
      "outputs": []
    },
    {
      "cell_type": "markdown",
      "source": [
        "## 999. Stop execution"
      ],
      "metadata": {
        "id": "qYMZzxBm7im7"
      }
    },
    {
      "cell_type": "code",
      "source": [
        "# raise SystemExit(\"Stop right there!\")"
      ],
      "metadata": {
        "id": "H7XKpcdE7gTF"
      },
      "execution_count": null,
      "outputs": []
    },
    {
      "cell_type": "code",
      "source": [],
      "metadata": {
        "id": "r35jnvFZ653n"
      },
      "execution_count": null,
      "outputs": []
    },
    {
      "cell_type": "code",
      "source": [
        "# raise SystemExit(\"Stop right there!\")"
      ],
      "metadata": {
        "id": "DFqMeKpIZhLW"
      },
      "execution_count": null,
      "outputs": []
    },
    {
      "cell_type": "markdown",
      "source": [
        "# Data Visualization 📊📈📉"
      ],
      "metadata": {
        "id": "ZxkH60cC3ecY"
      }
    },
    {
      "cell_type": "markdown",
      "source": [
        "## Sheet 1. Content type in percentage"
      ],
      "metadata": {
        "id": "kevuT0Z7uGPW"
      }
    },
    {
      "cell_type": "code",
      "source": [
        "pie_df    = input_data_df[['Media Type']]\n",
        "\n",
        "pie_df.head()"
      ],
      "metadata": {
        "id": "E--XYJgi1Z2l"
      },
      "execution_count": null,
      "outputs": []
    },
    {
      "cell_type": "code",
      "source": [
        "# pie_df    = input_data_df[['Media Type']]\n",
        "\n",
        "# Count the number of occurrences of each category\n",
        "counts = pie_df['Media Type'].value_counts()\n",
        "\n",
        "# Create a pie chart\n",
        "plt.pie(counts, labels=counts.index, autopct='%1.1f%%')"
      ],
      "metadata": {
        "id": "6UWfmM2_xUHg"
      },
      "execution_count": null,
      "outputs": []
    },
    {
      "cell_type": "markdown",
      "source": [
        "## Sheet 2. Movie & TV Show by Country"
      ],
      "metadata": {
        "id": "wUk9v7DkuPhz"
      }
    },
    {
      "cell_type": "code",
      "source": [
        "# Create a new DataFrame with two columns from the existing DataFrame\n",
        "stacked_bar_df = input_data_df[['Media Type', 'Country Name']]\n",
        "\n",
        "# Print the new DataFrame\n",
        "stacked_bar_df.head()"
      ],
      "metadata": {
        "id": "AOczsPUxuXW2"
      },
      "execution_count": null,
      "outputs": []
    },
    {
      "cell_type": "code",
      "source": [
        "\n",
        "# Filter out rows where the 'Category' column is 'B'\n",
        "stacked_bar_df = stacked_bar_df[stacked_bar_df['Country Name'] != 'Not Given']\n",
        "\n",
        "stacked_bar_df.head()"
      ],
      "metadata": {
        "id": "0TLAFLMSe_OD"
      },
      "execution_count": null,
      "outputs": []
    },
    {
      "cell_type": "code",
      "source": [
        "# Count the number of rows in each category in the 'Category' column\n",
        "counts_df = stacked_bar_df['Country Name'].value_counts()\n",
        "\n",
        "# Select the top 10 categories by count of rows\n",
        "top_10_categories_df = counts_df.head(10)\n",
        "\n",
        "# Print the top 10 categories by count of rows\n",
        "print(top_10_categories_df)"
      ],
      "metadata": {
        "id": "jnNBfLo0gkIY"
      },
      "execution_count": null,
      "outputs": []
    },
    {
      "cell_type": "code",
      "source": [
        "# Convert the index to a column\n",
        "top_10_categories_df = top_10_categories_df.reset_index()\n",
        "\n",
        "# Convert the 'Category' column to a list of values\n",
        "category_list = top_10_categories_df['Country Name'].tolist()\n",
        "\n",
        "# Print the list of values\n",
        "print(category_list)"
      ],
      "metadata": {
        "id": "LpUDvEFZhbaf"
      },
      "execution_count": null,
      "outputs": []
    },
    {
      "cell_type": "code",
      "source": [
        "# Filter rows in the 'Category' column only if the value is present in the list\n",
        "stacked_bar_df = stacked_bar_df[stacked_bar_df['Country Name'].isin(category_list)]\n",
        "\n",
        "# Print the filtered DataFrame\n",
        "print(stacked_bar_df)"
      ],
      "metadata": {
        "id": "RB0qDvKFj9BL"
      },
      "execution_count": null,
      "outputs": []
    },
    {
      "cell_type": "code",
      "source": [
        "\n",
        "# default order of printing bars is alpahbetical order\n",
        "\n",
        "stacked_bar_df.groupby(['Country Name', 'Media Type']).size().unstack().plot(kind='bar', stacked=True)"
      ],
      "metadata": {
        "id": "fUh97yR69vv7"
      },
      "execution_count": null,
      "outputs": []
    },
    {
      "cell_type": "code",
      "source": [
        "\n",
        "\n",
        "# default order of printing bars is alpahbetical order\n",
        "\n",
        "stacked_bar_df.groupby(['Country Name', 'Media Type']).size().unstack().plot(kind='barh', stacked=True)\n"
      ],
      "metadata": {
        "id": "lS5V87xSqLg8"
      },
      "execution_count": null,
      "outputs": []
    },
    {
      "cell_type": "code",
      "source": [],
      "metadata": {
        "id": "z88KQKaV6t3o"
      },
      "execution_count": null,
      "outputs": []
    },
    {
      "cell_type": "markdown",
      "source": [
        "## Sheet 3. Number of Contents Added through the Years"
      ],
      "metadata": {
        "id": "4hkrmav5unoc"
      }
    },
    {
      "cell_type": "code",
      "source": [
        "\n",
        "#\n",
        "content_added_in_years_df = input_data_df['Release Year']\n",
        "\n",
        "content_added_in_years_df.head()"
      ],
      "metadata": {
        "id": "vWn3J75c0FJd"
      },
      "execution_count": null,
      "outputs": []
    },
    {
      "cell_type": "code",
      "source": [],
      "metadata": {
        "id": "vxKfeDjw0F2s"
      },
      "execution_count": null,
      "outputs": []
    },
    {
      "cell_type": "code",
      "source": [],
      "metadata": {
        "id": "pli4hdYs0GWX"
      },
      "execution_count": null,
      "outputs": []
    },
    {
      "cell_type": "markdown",
      "source": [
        "## Sheet 4. Top Directors"
      ],
      "metadata": {
        "id": "aexKHbsru460"
      }
    },
    {
      "cell_type": "code",
      "source": [],
      "metadata": {
        "id": "fDezWbVMu6kx"
      },
      "execution_count": null,
      "outputs": []
    },
    {
      "cell_type": "code",
      "source": [
        "raise SystemExit(\"Stop right there!\")"
      ],
      "metadata": {
        "id": "Ua9GOU5Hx7s2"
      },
      "execution_count": null,
      "outputs": []
    },
    {
      "cell_type": "markdown",
      "source": [
        "# The End 🛑"
      ],
      "metadata": {
        "id": "xFsznQ6U4pyF"
      }
    },
    {
      "cell_type": "markdown",
      "source": [],
      "metadata": {
        "id": "Wux5LLh9Nshb"
      }
    }
  ],
  "metadata": {
    "kernelspec": {
      "display_name": "Python 3",
      "name": "python3"
    },
    "language_info": {
      "name": "python"
    },
    "colab": {
      "provenance": [],
      "include_colab_link": true
    }
  },
  "nbformat": 4,
  "nbformat_minor": 0
}