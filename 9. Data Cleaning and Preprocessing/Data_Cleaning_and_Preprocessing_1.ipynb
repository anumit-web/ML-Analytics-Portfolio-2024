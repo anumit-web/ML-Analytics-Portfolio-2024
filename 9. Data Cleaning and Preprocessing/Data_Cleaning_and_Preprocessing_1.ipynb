{
  "cells": [
    {
      "cell_type": "markdown",
      "metadata": {
        "id": "view-in-github",
        "colab_type": "text"
      },
      "source": [
        "<a href=\"https://colab.research.google.com/github/anumit-web/ML-Analytics-Portfolio-2024/blob/main/9.%20Data%20Cleaning%20and%20Preprocessing/Data_Cleaning_and_Preprocessing_1.ipynb\" target=\"_parent\"><img src=\"https://colab.research.google.com/assets/colab-badge.svg\" alt=\"Open In Colab\"/></a>"
      ]
    },
    {
      "cell_type": "markdown",
      "source": [
        "# Artificial Intelligence\n",
        "# Machine Learning\n",
        "# Portfolio Project\n",
        "# #9\n",
        "# Data Cleaning\n",
        "# Goal = Cleaning and preprocessing raw dataset. showcase of skills like data wrangling, feature engineering, data normalization\n",
        "\n",
        "\n",
        "- - - - - - - - - - - - - - - - - - - - - - - - - - - - - - - - - - - - - - - - - - - - - - - - - - - - - - - - - - - - - - - - - - - -\n"
      ],
      "metadata": {
        "id": "LAElxz7e6xiT"
      }
    },
    {
      "cell_type": "markdown",
      "source": [
        "# Branding statement"
      ],
      "metadata": {
        "id": "-AqinKkKYcIN"
      }
    },
    {
      "cell_type": "code",
      "source": [
        "# https://i.ibb.co/zZswY34/Pink-hands-network-2.png"
      ],
      "metadata": {
        "id": "et0ThJcPYiXb"
      },
      "execution_count": 1631,
      "outputs": []
    },
    {
      "cell_type": "code",
      "source": [
        "from IPython.display import Image\n",
        "Image('https://i.ibb.co/zZswY34/Pink-hands-network-2.png')"
      ],
      "metadata": {
        "id": "eejritJ1YnWh"
      },
      "execution_count": null,
      "outputs": []
    },
    {
      "cell_type": "markdown",
      "source": [
        "- - - - - - - - - - - - - - - - - - - - - - - - - - - - - - - - - - - - - - - - - - - - - - - -"
      ],
      "metadata": {
        "id": "GRLJj5WkZYii"
      }
    },
    {
      "cell_type": "markdown",
      "source": [
        "# EDA, Exploratory Data Analysis"
      ],
      "metadata": {
        "id": "P2GTILYG7D1r"
      }
    },
    {
      "cell_type": "markdown",
      "source": [
        "## import libraries"
      ],
      "metadata": {
        "id": "vSS7v0tO2Nc1"
      }
    },
    {
      "cell_type": "code",
      "source": [
        "print('Hello, Data Cleaning and Preprocessing')"
      ],
      "metadata": {
        "id": "bijVEivnAsug"
      },
      "execution_count": null,
      "outputs": []
    },
    {
      "cell_type": "code",
      "source": [
        "import numpy as np\n",
        "import pandas as pd\n",
        "\n",
        "import seaborn as sns\n",
        "import matplotlib.pyplot as plt"
      ],
      "metadata": {
        "id": "vsLbE4-Z-pdJ"
      },
      "execution_count": null,
      "outputs": []
    },
    {
      "cell_type": "markdown",
      "source": [
        "## Input data"
      ],
      "metadata": {
        "id": "zlPRSWa00y-0"
      }
    },
    {
      "cell_type": "code",
      "source": [
        "# https://raw.githubusercontent.com/anumit-web/ML-Analytics-Portfolio-2024/refs/heads/main/9.%20Data%20Cleaning%20and%20Preprocessing/dataset/employees_info.csv"
      ],
      "metadata": {
        "id": "pF-tKnE6hs7T"
      },
      "execution_count": null,
      "outputs": []
    },
    {
      "cell_type": "code",
      "source": [
        "# input_data_df = pd.read_csv(\"https://raw.githubusercontent.com/anumit-web/ML-Analytics-Portfolio-2024/refs/heads/main/9.%20Data%20Cleaning%20and%20Preprocessing/dataset/employees_info.csv\",\n",
        "#                            sep = ',')\n",
        "\n",
        "# https://raw.githubusercontent.com/anumit-web/ML-Analytics-Portfolio-2024/refs/heads/main/9.%20Data%20Cleaning%20and%20Preprocessing/dataset/employees_info.csv\n",
        "\n",
        "input_data_df = pd.read_csv(\"https://raw.githubusercontent.com/anumit-web/ML-Analytics-Portfolio-2024/refs/heads/main/9.%20Data%20Cleaning%20and%20Preprocessing/dataset/netflix1.csv\",\n",
        "                            sep = ',')"
      ],
      "metadata": {
        "id": "aThzc3vIrpwI"
      },
      "execution_count": null,
      "outputs": []
    },
    {
      "cell_type": "code",
      "source": [
        "number_of_rows = input_data_df.shape[0]\n",
        "number_of_columns = input_data_df.shape[1]\n",
        "print(\"Numner of rows = \", number_of_rows)\n",
        "print(\"Number of columns = \", number_of_columns)"
      ],
      "metadata": {
        "id": "J5htDQ-5hTmd"
      },
      "execution_count": null,
      "outputs": []
    },
    {
      "cell_type": "code",
      "source": [
        "\n",
        "input_data_df.head()"
      ],
      "metadata": {
        "id": "o7enKsiz_UEH"
      },
      "execution_count": null,
      "outputs": []
    },
    {
      "cell_type": "code",
      "source": [
        "input_data_df.tail()"
      ],
      "metadata": {
        "id": "SGHOpPwkXjte"
      },
      "execution_count": null,
      "outputs": []
    },
    {
      "cell_type": "code",
      "source": [
        "input_data_df.info()"
      ],
      "metadata": {
        "id": "S_h0_YgEXsVu"
      },
      "execution_count": null,
      "outputs": []
    },
    {
      "cell_type": "code",
      "source": [
        "input_data_df.describe()\n"
      ],
      "metadata": {
        "id": "N5WFB738XyUR"
      },
      "execution_count": null,
      "outputs": []
    },
    {
      "cell_type": "code",
      "source": [
        "#"
      ],
      "metadata": {
        "id": "cjHTrV4Uldu2"
      },
      "execution_count": null,
      "outputs": []
    },
    {
      "cell_type": "code",
      "source": [
        "# raise SystemExit(\"Stop right there!\")"
      ],
      "metadata": {
        "id": "cwbsGFKrmbIg"
      },
      "execution_count": null,
      "outputs": []
    },
    {
      "cell_type": "markdown",
      "source": [
        "change index to date tyoe and date column"
      ],
      "metadata": {
        "id": "vUrAkzph5g5J"
      }
    },
    {
      "cell_type": "code",
      "source": [
        "# input_data_df.index = input_data_df['Date']"
      ],
      "metadata": {
        "id": "fQVOfpEf4Rrq"
      },
      "execution_count": null,
      "outputs": []
    },
    {
      "cell_type": "code",
      "source": [
        "input_data_df.head()"
      ],
      "metadata": {
        "id": "h4SeF6Qn4fQU"
      },
      "execution_count": null,
      "outputs": []
    },
    {
      "cell_type": "markdown",
      "source": [
        "do NOT drop date column because we need it for model training for linear and random forest algorithms"
      ],
      "metadata": {
        "id": "VJotgyyaxcHX"
      }
    },
    {
      "cell_type": "code",
      "source": [
        "# input_data_df = input_data_df.drop('Date', axis=1)\n",
        "# where 1 is the axis number (0 for rows and 1 for columns.)"
      ],
      "metadata": {
        "id": "ddufAvqP6FoN"
      },
      "execution_count": null,
      "outputs": []
    },
    {
      "cell_type": "code",
      "source": [
        "input_data_df.head()"
      ],
      "metadata": {
        "id": "-oPPZotd6QvU"
      },
      "execution_count": null,
      "outputs": []
    },
    {
      "cell_type": "markdown",
      "source": [
        "# Data Cleanimg and Preprocessing 🧹🧼🧽"
      ],
      "metadata": {
        "id": "LgUkNXDqcgLw"
      }
    },
    {
      "cell_type": "markdown",
      "source": [
        "## 1. Drop columns not needed"
      ],
      "metadata": {
        "id": "A_bfoinEdhU2"
      }
    },
    {
      "cell_type": "code",
      "source": [
        "pd.set_option(\"display.max_columns\", None)"
      ],
      "metadata": {
        "id": "cYV66z-tah3-"
      },
      "execution_count": null,
      "outputs": []
    },
    {
      "cell_type": "code",
      "source": [
        "# Drop the 'time zone' column\n",
        "# input_data_df = input_data_df.drop(['time zone'], axis=1)\n",
        "\n",
        "# print(input_data_df)\n",
        "\n",
        "# print top 5 and last 5 rows of dataset\n",
        "input_data_df"
      ],
      "metadata": {
        "id": "gsI5NMlUY3dr"
      },
      "execution_count": null,
      "outputs": []
    },
    {
      "cell_type": "code",
      "source": [],
      "metadata": {
        "id": "tSVatfRDZfXQ"
      },
      "execution_count": null,
      "outputs": []
    },
    {
      "cell_type": "markdown",
      "source": [
        "## 2. Rename columns to better understand the data\n"
      ],
      "metadata": {
        "id": "cgXYzzKHcU2S"
      }
    },
    {
      "cell_type": "code",
      "source": [
        "input_data_df.columns"
      ],
      "metadata": {
        "id": "FC7MZTc1Zfbj"
      },
      "execution_count": null,
      "outputs": []
    },
    {
      "cell_type": "code",
      "source": [
        "input_data_df.columns = ['Show id', 'Media Type', 'Title',\n",
        "                         'Director Name', 'Country Name',\n",
        "                         'Date Added', 'Release Year',\n",
        "                         'Rating', 'Duration',\n",
        "                         'listed_in' ]\n",
        "\n",
        "\n",
        "\n",
        "input_data_df.head()"
      ],
      "metadata": {
        "id": "PWCZkSkBZgYN"
      },
      "execution_count": null,
      "outputs": []
    },
    {
      "cell_type": "markdown",
      "source": [
        "## 3. Add a new integer column"
      ],
      "metadata": {
        "id": "gFzFdDDx8c7V"
      }
    },
    {
      "cell_type": "code",
      "source": [
        "input_data_df['Duration (in numbers)'] = 0\n",
        "\n",
        "input_data_df.head()"
      ],
      "metadata": {
        "id": "CcpdIExV-F4U"
      },
      "execution_count": null,
      "outputs": []
    },
    {
      "cell_type": "markdown",
      "source": [
        "## 4. Convert columns to integer or float values"
      ],
      "metadata": {
        "id": "5recPWHh7am3"
      }
    },
    {
      "cell_type": "code",
      "source": [
        "# Split numbers from strings using str.replace()\n",
        "\n",
        "input_data_df['Duration (in numbers)'] = input_data_df['Duration'].str.replace('[a-zA-Z]', '', regex=True)\n",
        "\n",
        "input_data_df.head()\n"
      ],
      "metadata": {
        "id": "rAzPMlYdZgu9"
      },
      "execution_count": null,
      "outputs": []
    },
    {
      "cell_type": "code",
      "source": [
        "# Convert the 'ID' column to integer 64 type\n",
        "input_data_df['Duration (in numbers)'] = input_data_df['Duration (in numbers)'].astype('int64')\n",
        "\n",
        "\n",
        "\n",
        "input_data_df.dtypes"
      ],
      "metadata": {
        "id": "50yMrQ4z_xhB"
      },
      "execution_count": null,
      "outputs": []
    },
    {
      "cell_type": "code",
      "source": [
        "input_data_df.head()"
      ],
      "metadata": {
        "id": "CtQlR7BgDNT6"
      },
      "execution_count": null,
      "outputs": []
    },
    {
      "cell_type": "markdown",
      "source": [
        "## 5. Convert columns to date types\n"
      ],
      "metadata": {
        "id": "X3J9KA1HDyS5"
      }
    },
    {
      "cell_type": "code",
      "source": [
        "\n",
        "# Convert the 'Date' column to date type\n",
        "input_data_df['Date Added'] = pd.to_datetime(input_data_df['Date Added'])\n",
        "\n",
        "input_data_df.dtypes"
      ],
      "metadata": {
        "id": "DHLrU0FoD2Rt"
      },
      "execution_count": null,
      "outputs": []
    },
    {
      "cell_type": "markdown",
      "source": [
        "## 10. Find duplicate rows\n"
      ],
      "metadata": {
        "id": "vusN2rd5FDdE"
      }
    },
    {
      "cell_type": "code",
      "source": [
        "# Find duplicate rows\n",
        "duplicate_rows = input_data_df[input_data_df.duplicated()]\n",
        "\n",
        "# Print duplicate rows\n",
        "print(duplicate_rows)"
      ],
      "metadata": {
        "id": "P5IqBy3xFP7D"
      },
      "execution_count": null,
      "outputs": []
    },
    {
      "cell_type": "code",
      "source": [
        "# Check if duplicates are found\n",
        "if len(duplicate_rows) == 0:\n",
        "    print(\"No duplicates found\")\n",
        "else:\n",
        "    print(\"Duplicates found:\")"
      ],
      "metadata": {
        "id": "ICuCGGF2G9al"
      },
      "execution_count": null,
      "outputs": []
    },
    {
      "cell_type": "markdown",
      "source": [
        "## 12. Find number of null rows sorted by column name"
      ],
      "metadata": {
        "id": "Jd-l5PGdmenf"
      }
    },
    {
      "cell_type": "code",
      "source": [
        "input_data_df.isnull().sum()"
      ],
      "metadata": {
        "id": "v6uA-3cqmiy-"
      },
      "execution_count": null,
      "outputs": []
    },
    {
      "cell_type": "code",
      "source": [
        "# Find count of number of nulls in columns\n",
        "\n",
        "input_data_df.isnull().sum(axis = 0)"
      ],
      "metadata": {
        "id": "OwdS74TvfqoC"
      },
      "execution_count": null,
      "outputs": []
    },
    {
      "cell_type": "code",
      "source": [
        "print('No nulls found')"
      ],
      "metadata": {
        "id": "8ZlielIlnxqh"
      },
      "execution_count": null,
      "outputs": []
    },
    {
      "cell_type": "markdown",
      "source": [
        "## 13. Remove leading/trailing whitespace (using lambda functions)\n",
        "\n"
      ],
      "metadata": {
        "id": "hnPrLlxHkCoZ"
      }
    },
    {
      "cell_type": "code",
      "source": [
        "# Remove white space from only string columns\n",
        "\n",
        "input_data_df= input_data_df.apply(lambda x: x.str.strip() if x.dtype == 'object' else x)\n",
        "\n",
        "# print head and tail of dataframe\n",
        "input_data_df\n"
      ],
      "metadata": {
        "id": "c4SvKD6PlOYg"
      },
      "execution_count": null,
      "outputs": []
    },
    {
      "cell_type": "markdown",
      "source": [
        "## 14. Clone column"
      ],
      "metadata": {
        "id": "e39TgBY65Io_"
      }
    },
    {
      "cell_type": "code",
      "source": [
        "\n",
        "# Clone the 'Age' column to a new column 'Age_Clone' using the `copy()` function\n",
        "input_data_df['Show id (new)'] = input_data_df['Show id'].copy()\n",
        "\n",
        "input_data_df.head()"
      ],
      "metadata": {
        "id": "mwtA6sWQ5Pfj"
      },
      "execution_count": null,
      "outputs": []
    },
    {
      "cell_type": "markdown",
      "source": [
        "## 15. Create new index using row identifier"
      ],
      "metadata": {
        "id": "H1JczowimK4u"
      }
    },
    {
      "cell_type": "code",
      "source": [
        "# Set the 'Name' column as the index\n",
        "\n",
        "input_data_df.set_index('Show id', inplace=True)\n",
        "\n",
        "input_data_df.head()"
      ],
      "metadata": {
        "id": "EKODJM0cmNyq"
      },
      "execution_count": null,
      "outputs": []
    },
    {
      "cell_type": "markdown",
      "source": [
        "## 16. Reset index if needed\n"
      ],
      "metadata": {
        "id": "-pZ6nqfEn835"
      }
    },
    {
      "cell_type": "code",
      "source": [
        "# Do NOT move the index to a column\n",
        "input_data_df.reset_index(drop=True, inplace=True)\n",
        "\n",
        "input_data_df.head()"
      ],
      "metadata": {
        "id": "QeqRD6Xl12ye"
      },
      "execution_count": null,
      "outputs": []
    },
    {
      "cell_type": "markdown",
      "source": [
        "## 17. Drop columns not needed"
      ],
      "metadata": {
        "id": "deSluGPk7xzg"
      }
    },
    {
      "cell_type": "code",
      "source": [
        "# Drop the 'Age' column\n",
        "# axis 1 = column, 0 = rows\n",
        "input_data_df = input_data_df.drop('Show id (new)', axis=1)\n",
        "\n",
        "input_data_df.head()\n"
      ],
      "metadata": {
        "id": "MQ7FvoKH71vw"
      },
      "execution_count": null,
      "outputs": []
    },
    {
      "cell_type": "markdown",
      "source": [
        "## 18. Convert minutes to hours and minutes\n",
        "\n"
      ],
      "metadata": {
        "id": "Wk_1UQy6-GiS"
      }
    },
    {
      "cell_type": "code",
      "source": [
        "# create new column to store time values\n",
        "\n",
        "input_data_df['Time'] = ''\n",
        "\n",
        "input_data_df.head()"
      ],
      "metadata": {
        "id": "hygufjsf-J8D"
      },
      "execution_count": null,
      "outputs": []
    },
    {
      "cell_type": "code",
      "source": [
        "\n",
        "# Print unique values of the 'Name' column\n",
        "print(input_data_df['Media Type'].unique())"
      ],
      "metadata": {
        "id": "gStOJ6K4OmNi"
      },
      "execution_count": null,
      "outputs": []
    },
    {
      "cell_type": "code",
      "source": [
        "input_data_df['Media Type'] = input_data_df['Media Type'].astype(str)\n",
        "\n",
        "filtered_df = input_data_df[input_data_df['Media Type'] == \"John\"]\n",
        "\n",
        "print(filtered_df)\n",
        "\n",
        "# input_data_df.query('\"Media Type\" in [Movie]')"
      ],
      "metadata": {
        "id": "-HylAR1ORAy5"
      },
      "execution_count": null,
      "outputs": []
    },
    {
      "cell_type": "code",
      "source": [
        "# Convert the Age column to string\n",
        "input_data_df['Media Type'] = input_data_df['Media Type'].astype(str)\n",
        "\n",
        "# Define a simple function to convert age to string\n",
        "def minutes_to_hours_and_minutes(minutes_input):\n",
        "    hours_output = minutes_input // 60\n",
        "    minutes_output = minutes_input % 60\n",
        "    return_value = '' + str(hours_output) + ' hours ' + str(minutes_output) + ' minutes'\n",
        "    return str(return_value)\n",
        "\n",
        "\n",
        "input_data_df.head()\n",
        "# Apply the function to the 'Age' column\n",
        "filtered_df = input_data_df.query('\"Media Type\" in [\"Movie\"]')\n",
        "\n",
        "filtered_df.head()\n",
        "\n",
        "input_data_df['Time'] = filtered_df.apply(minutes_to_hours_and_minutes)\n",
        "\n",
        "input_data_df.head()"
      ],
      "metadata": {
        "id": "O80z2vRIAQAl"
      },
      "execution_count": null,
      "outputs": []
    },
    {
      "cell_type": "code",
      "source": [
        "raise SystemExit(\"Stop right there!\")"
      ],
      "metadata": {
        "id": "DFqMeKpIZhLW"
      },
      "execution_count": null,
      "outputs": []
    },
    {
      "cell_type": "markdown",
      "source": [
        "# Data Visualization 📊📈📉"
      ],
      "metadata": {
        "id": "ZxkH60cC3ecY"
      }
    },
    {
      "cell_type": "markdown",
      "source": [
        "## Total Sales Analysis\n",
        "\n",
        "We group the data by month and year, calculating the total sum of sales to understand the sales trend over time. The resulting visualization depicts the total sales per month"
      ],
      "metadata": {
        "id": "va9UiZOpZKqI"
      }
    },
    {
      "cell_type": "markdown",
      "source": [
        "# The End 🛑"
      ],
      "metadata": {
        "id": "xFsznQ6U4pyF"
      }
    },
    {
      "cell_type": "markdown",
      "source": [],
      "metadata": {
        "id": "Wux5LLh9Nshb"
      }
    }
  ],
  "metadata": {
    "kernelspec": {
      "display_name": "Python 3",
      "name": "python3"
    },
    "language_info": {
      "name": "python"
    },
    "colab": {
      "provenance": [],
      "include_colab_link": true
    }
  },
  "nbformat": 4,
  "nbformat_minor": 0
}